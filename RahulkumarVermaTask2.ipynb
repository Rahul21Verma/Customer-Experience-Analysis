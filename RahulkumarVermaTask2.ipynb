{
  "nbformat": 4,
  "nbformat_minor": 0,
  "metadata": {
    "colab": {
      "provenance": [],
      "collapsed_sections": []
    },
    "kernelspec": {
      "name": "python3",
      "display_name": "Python 3"
    },
    "language_info": {
      "name": "python"
    }
  },
  "cells": [
    {
      "cell_type": "markdown",
      "source": [
        "#Import the necessary libraries *Numpy, Pandas, Matploilib, Seaborn*\n",
        "\n",
        "###### **Numpy**: NumPy is a Numerical Python Library that is used for data mathematical Computing .it is support the fast and efficient multidimensional array and performs linear algebraic operations.\n",
        "###### **Pandas**: Panda is an open-source library that helps understand relational or labelled data.Used for data manipulation, Data operation function, and handling data structures and function for handling missing data.\n",
        "###### **Matplotlib**: Matplotlip is a Python visualization library that is used for large and complex data visualization 2D array plots. it has high-quality graphics and plots for viewing tha data.\n",
        "###### **Seaborn**: Seaborn is a data visualization library built on top of matplotlib."
      ],
      "metadata": {
        "id": "TNdpIDISQb2g"
      }
    },
    {
      "cell_type": "code",
      "execution_count": null,
      "metadata": {
        "id": "aFjR_rSZPcSU"
      },
      "outputs": [],
      "source": [
        "import pandas as pd\n",
        "import numpy as np\n",
        "import matplotlib.pyplot as plt\n",
        "import seaborn as sns\n"
      ]
    },
    {
      "cell_type": "code",
      "source": [
        "# Load Data Set With Pandas Libabry\n",
        "data=pd.read_csv(\"/content/drive/MyDrive/Flyzy/Csv/Review.csv\")"
      ],
      "metadata": {
        "id": "zLi8xJ_eoI3X"
      },
      "execution_count": null,
      "outputs": []
    },
    {
      "cell_type": "code",
      "source": [
        "#Views the contant tha data\n",
        "data.describe"
      ],
      "metadata": {
        "colab": {
          "base_uri": "https://localhost:8080/"
        },
        "id": "vmuQBCM_p9Jq",
        "outputId": "c730d94f-2311-4504-88e9-402e7d43b643"
      },
      "execution_count": null,
      "outputs": [
        {
          "output_type": "execute_result",
          "data": {
            "text/plain": [
              "<bound method NDFrame.describe of       sentiment_polarity  sentiment_polarity_confidence  \\\n",
              "0                neutral                         1.0000   \n",
              "1               positive                         0.3486   \n",
              "2                neutral                         0.6837   \n",
              "3               negative                         1.0000   \n",
              "4               negative                         1.0000   \n",
              "...                  ...                            ...   \n",
              "14635           positive                         0.3487   \n",
              "14636           negative                         1.0000   \n",
              "14637            neutral                         1.0000   \n",
              "14638           negative                         1.0000   \n",
              "14639            neutral                         0.6771   \n",
              "\n",
              "              negative_reason  negativereason_confidence    airline_name  \\\n",
              "0                         NaN                        NaN  Virgin America   \n",
              "1                         NaN                     0.0000  Virgin America   \n",
              "2                         NaN                        NaN  Virgin America   \n",
              "3                  Bad Flight                     0.7033  Virgin America   \n",
              "4                  Can't Tell                     1.0000  Virgin America   \n",
              "...                       ...                        ...             ...   \n",
              "14635                     NaN                     0.0000        American   \n",
              "14636  Customer Service Issue                     1.0000        American   \n",
              "14637                     NaN                        NaN        American   \n",
              "14638  Customer Service Issue                     0.6659        American   \n",
              "14639                     NaN                     0.0000        American   \n",
              "\n",
              "      airline_sentiment_gold             name negativereason_gold  \\\n",
              "0                        NaN          cairdin                 NaN   \n",
              "1                        NaN         jnardino                 NaN   \n",
              "2                        NaN       yvonnalynn                 NaN   \n",
              "3                        NaN         jnardino                 NaN   \n",
              "4                        NaN         jnardino                 NaN   \n",
              "...                      ...              ...                 ...   \n",
              "14635                    NaN  KristenReenders                 NaN   \n",
              "14636                    NaN         itsropes                 NaN   \n",
              "14637                    NaN         sanyabun                 NaN   \n",
              "14638                    NaN       SraJackson                 NaN   \n",
              "14639                    NaN        daviddtwu                 NaN   \n",
              "\n",
              "       retweet_count                                             Review  \\\n",
              "0                  0                @VirginAmerica What @dhepburn said.   \n",
              "1                  0  @VirginAmerica plus you've added commercials t...   \n",
              "2                  0  @VirginAmerica I didn't today... Must mean I n...   \n",
              "3                  0  @VirginAmerica it's really aggressive to blast...   \n",
              "4                  0  @VirginAmerica and it's a really big bad thing...   \n",
              "...              ...                                                ...   \n",
              "14635              0  @AmericanAir thank you we got on a different f...   \n",
              "14636              0  @AmericanAir leaving over 20 minutes Late Flig...   \n",
              "14637              0  @AmericanAir Please bring American Airlines to...   \n",
              "14638              0  @AmericanAir you have my money, you change my ...   \n",
              "14639              0  @AmericanAir we have 8 ppl so we need 2 know h...   \n",
              "\n",
              "      tweet_coord   tweet_created tweet_location               user_timezone  \n",
              "0             NaN  24/02/15 11:35            NaN  Eastern Time (US & Canada)  \n",
              "1             NaN  24/02/15 11:15            NaN  Pacific Time (US & Canada)  \n",
              "2             NaN  24/02/15 11:15      Lets Play  Central Time (US & Canada)  \n",
              "3             NaN  24/02/15 11:15            NaN  Pacific Time (US & Canada)  \n",
              "4             NaN  24/02/15 11:14            NaN  Pacific Time (US & Canada)  \n",
              "...           ...             ...            ...                         ...  \n",
              "14635         NaN  22/02/15 12:01            NaN                         NaN  \n",
              "14636         NaN  22/02/15 11:59          Texas                         NaN  \n",
              "14637         NaN  22/02/15 11:59  Nigeria,lagos                         NaN  \n",
              "14638         NaN  22/02/15 11:59     New Jersey  Eastern Time (US & Canada)  \n",
              "14639         NaN  22/02/15 11:58     dallas, TX                         NaN  \n",
              "\n",
              "[14640 rows x 14 columns]>"
            ]
          },
          "metadata": {},
          "execution_count": 3
        }
      ]
    },
    {
      "cell_type": "code",
      "source": [
        "#Views first five records\n",
        "data.head()"
      ],
      "metadata": {
        "colab": {
          "base_uri": "https://localhost:8080/",
          "height": 496
        },
        "id": "NvftOn-N2bKy",
        "outputId": "9f6ddb3f-89c1-43e3-8b74-63cffdf48c59"
      },
      "execution_count": null,
      "outputs": [
        {
          "output_type": "execute_result",
          "data": {
            "text/plain": [
              "  sentiment_polarity  sentiment_polarity_confidence negative_reason  \\\n",
              "0            neutral                         1.0000             NaN   \n",
              "1           positive                         0.3486             NaN   \n",
              "2            neutral                         0.6837             NaN   \n",
              "3           negative                         1.0000      Bad Flight   \n",
              "4           negative                         1.0000      Can't Tell   \n",
              "\n",
              "   negativereason_confidence    airline_name airline_sentiment_gold  \\\n",
              "0                        NaN  Virgin America                    NaN   \n",
              "1                     0.0000  Virgin America                    NaN   \n",
              "2                        NaN  Virgin America                    NaN   \n",
              "3                     0.7033  Virgin America                    NaN   \n",
              "4                     1.0000  Virgin America                    NaN   \n",
              "\n",
              "         name negativereason_gold  retweet_count  \\\n",
              "0     cairdin                 NaN              0   \n",
              "1    jnardino                 NaN              0   \n",
              "2  yvonnalynn                 NaN              0   \n",
              "3    jnardino                 NaN              0   \n",
              "4    jnardino                 NaN              0   \n",
              "\n",
              "                                              Review tweet_coord  \\\n",
              "0                @VirginAmerica What @dhepburn said.         NaN   \n",
              "1  @VirginAmerica plus you've added commercials t...         NaN   \n",
              "2  @VirginAmerica I didn't today... Must mean I n...         NaN   \n",
              "3  @VirginAmerica it's really aggressive to blast...         NaN   \n",
              "4  @VirginAmerica and it's a really big bad thing...         NaN   \n",
              "\n",
              "    tweet_created tweet_location               user_timezone  \n",
              "0  24/02/15 11:35            NaN  Eastern Time (US & Canada)  \n",
              "1  24/02/15 11:15            NaN  Pacific Time (US & Canada)  \n",
              "2  24/02/15 11:15      Lets Play  Central Time (US & Canada)  \n",
              "3  24/02/15 11:15            NaN  Pacific Time (US & Canada)  \n",
              "4  24/02/15 11:14            NaN  Pacific Time (US & Canada)  "
            ],
            "text/html": [
              "\n",
              "  <div id=\"df-3dcce655-f1c0-4817-a9ec-38d2b5221bd5\">\n",
              "    <div class=\"colab-df-container\">\n",
              "      <div>\n",
              "<style scoped>\n",
              "    .dataframe tbody tr th:only-of-type {\n",
              "        vertical-align: middle;\n",
              "    }\n",
              "\n",
              "    .dataframe tbody tr th {\n",
              "        vertical-align: top;\n",
              "    }\n",
              "\n",
              "    .dataframe thead th {\n",
              "        text-align: right;\n",
              "    }\n",
              "</style>\n",
              "<table border=\"1\" class=\"dataframe\">\n",
              "  <thead>\n",
              "    <tr style=\"text-align: right;\">\n",
              "      <th></th>\n",
              "      <th>sentiment_polarity</th>\n",
              "      <th>sentiment_polarity_confidence</th>\n",
              "      <th>negative_reason</th>\n",
              "      <th>negativereason_confidence</th>\n",
              "      <th>airline_name</th>\n",
              "      <th>airline_sentiment_gold</th>\n",
              "      <th>name</th>\n",
              "      <th>negativereason_gold</th>\n",
              "      <th>retweet_count</th>\n",
              "      <th>Review</th>\n",
              "      <th>tweet_coord</th>\n",
              "      <th>tweet_created</th>\n",
              "      <th>tweet_location</th>\n",
              "      <th>user_timezone</th>\n",
              "    </tr>\n",
              "  </thead>\n",
              "  <tbody>\n",
              "    <tr>\n",
              "      <th>0</th>\n",
              "      <td>neutral</td>\n",
              "      <td>1.0000</td>\n",
              "      <td>NaN</td>\n",
              "      <td>NaN</td>\n",
              "      <td>Virgin America</td>\n",
              "      <td>NaN</td>\n",
              "      <td>cairdin</td>\n",
              "      <td>NaN</td>\n",
              "      <td>0</td>\n",
              "      <td>@VirginAmerica What @dhepburn said.</td>\n",
              "      <td>NaN</td>\n",
              "      <td>24/02/15 11:35</td>\n",
              "      <td>NaN</td>\n",
              "      <td>Eastern Time (US &amp; Canada)</td>\n",
              "    </tr>\n",
              "    <tr>\n",
              "      <th>1</th>\n",
              "      <td>positive</td>\n",
              "      <td>0.3486</td>\n",
              "      <td>NaN</td>\n",
              "      <td>0.0000</td>\n",
              "      <td>Virgin America</td>\n",
              "      <td>NaN</td>\n",
              "      <td>jnardino</td>\n",
              "      <td>NaN</td>\n",
              "      <td>0</td>\n",
              "      <td>@VirginAmerica plus you've added commercials t...</td>\n",
              "      <td>NaN</td>\n",
              "      <td>24/02/15 11:15</td>\n",
              "      <td>NaN</td>\n",
              "      <td>Pacific Time (US &amp; Canada)</td>\n",
              "    </tr>\n",
              "    <tr>\n",
              "      <th>2</th>\n",
              "      <td>neutral</td>\n",
              "      <td>0.6837</td>\n",
              "      <td>NaN</td>\n",
              "      <td>NaN</td>\n",
              "      <td>Virgin America</td>\n",
              "      <td>NaN</td>\n",
              "      <td>yvonnalynn</td>\n",
              "      <td>NaN</td>\n",
              "      <td>0</td>\n",
              "      <td>@VirginAmerica I didn't today... Must mean I n...</td>\n",
              "      <td>NaN</td>\n",
              "      <td>24/02/15 11:15</td>\n",
              "      <td>Lets Play</td>\n",
              "      <td>Central Time (US &amp; Canada)</td>\n",
              "    </tr>\n",
              "    <tr>\n",
              "      <th>3</th>\n",
              "      <td>negative</td>\n",
              "      <td>1.0000</td>\n",
              "      <td>Bad Flight</td>\n",
              "      <td>0.7033</td>\n",
              "      <td>Virgin America</td>\n",
              "      <td>NaN</td>\n",
              "      <td>jnardino</td>\n",
              "      <td>NaN</td>\n",
              "      <td>0</td>\n",
              "      <td>@VirginAmerica it's really aggressive to blast...</td>\n",
              "      <td>NaN</td>\n",
              "      <td>24/02/15 11:15</td>\n",
              "      <td>NaN</td>\n",
              "      <td>Pacific Time (US &amp; Canada)</td>\n",
              "    </tr>\n",
              "    <tr>\n",
              "      <th>4</th>\n",
              "      <td>negative</td>\n",
              "      <td>1.0000</td>\n",
              "      <td>Can't Tell</td>\n",
              "      <td>1.0000</td>\n",
              "      <td>Virgin America</td>\n",
              "      <td>NaN</td>\n",
              "      <td>jnardino</td>\n",
              "      <td>NaN</td>\n",
              "      <td>0</td>\n",
              "      <td>@VirginAmerica and it's a really big bad thing...</td>\n",
              "      <td>NaN</td>\n",
              "      <td>24/02/15 11:14</td>\n",
              "      <td>NaN</td>\n",
              "      <td>Pacific Time (US &amp; Canada)</td>\n",
              "    </tr>\n",
              "  </tbody>\n",
              "</table>\n",
              "</div>\n",
              "      <button class=\"colab-df-convert\" onclick=\"convertToInteractive('df-3dcce655-f1c0-4817-a9ec-38d2b5221bd5')\"\n",
              "              title=\"Convert this dataframe to an interactive table.\"\n",
              "              style=\"display:none;\">\n",
              "        \n",
              "  <svg xmlns=\"http://www.w3.org/2000/svg\" height=\"24px\"viewBox=\"0 0 24 24\"\n",
              "       width=\"24px\">\n",
              "    <path d=\"M0 0h24v24H0V0z\" fill=\"none\"/>\n",
              "    <path d=\"M18.56 5.44l.94 2.06.94-2.06 2.06-.94-2.06-.94-.94-2.06-.94 2.06-2.06.94zm-11 1L8.5 8.5l.94-2.06 2.06-.94-2.06-.94L8.5 2.5l-.94 2.06-2.06.94zm10 10l.94 2.06.94-2.06 2.06-.94-2.06-.94-.94-2.06-.94 2.06-2.06.94z\"/><path d=\"M17.41 7.96l-1.37-1.37c-.4-.4-.92-.59-1.43-.59-.52 0-1.04.2-1.43.59L10.3 9.45l-7.72 7.72c-.78.78-.78 2.05 0 2.83L4 21.41c.39.39.9.59 1.41.59.51 0 1.02-.2 1.41-.59l7.78-7.78 2.81-2.81c.8-.78.8-2.07 0-2.86zM5.41 20L4 18.59l7.72-7.72 1.47 1.35L5.41 20z\"/>\n",
              "  </svg>\n",
              "      </button>\n",
              "      \n",
              "  <style>\n",
              "    .colab-df-container {\n",
              "      display:flex;\n",
              "      flex-wrap:wrap;\n",
              "      gap: 12px;\n",
              "    }\n",
              "\n",
              "    .colab-df-convert {\n",
              "      background-color: #E8F0FE;\n",
              "      border: none;\n",
              "      border-radius: 50%;\n",
              "      cursor: pointer;\n",
              "      display: none;\n",
              "      fill: #1967D2;\n",
              "      height: 32px;\n",
              "      padding: 0 0 0 0;\n",
              "      width: 32px;\n",
              "    }\n",
              "\n",
              "    .colab-df-convert:hover {\n",
              "      background-color: #E2EBFA;\n",
              "      box-shadow: 0px 1px 2px rgba(60, 64, 67, 0.3), 0px 1px 3px 1px rgba(60, 64, 67, 0.15);\n",
              "      fill: #174EA6;\n",
              "    }\n",
              "\n",
              "    [theme=dark] .colab-df-convert {\n",
              "      background-color: #3B4455;\n",
              "      fill: #D2E3FC;\n",
              "    }\n",
              "\n",
              "    [theme=dark] .colab-df-convert:hover {\n",
              "      background-color: #434B5C;\n",
              "      box-shadow: 0px 1px 3px 1px rgba(0, 0, 0, 0.15);\n",
              "      filter: drop-shadow(0px 1px 2px rgba(0, 0, 0, 0.3));\n",
              "      fill: #FFFFFF;\n",
              "    }\n",
              "  </style>\n",
              "\n",
              "      <script>\n",
              "        const buttonEl =\n",
              "          document.querySelector('#df-3dcce655-f1c0-4817-a9ec-38d2b5221bd5 button.colab-df-convert');\n",
              "        buttonEl.style.display =\n",
              "          google.colab.kernel.accessAllowed ? 'block' : 'none';\n",
              "\n",
              "        async function convertToInteractive(key) {\n",
              "          const element = document.querySelector('#df-3dcce655-f1c0-4817-a9ec-38d2b5221bd5');\n",
              "          const dataTable =\n",
              "            await google.colab.kernel.invokeFunction('convertToInteractive',\n",
              "                                                     [key], {});\n",
              "          if (!dataTable) return;\n",
              "\n",
              "          const docLinkHtml = 'Like what you see? Visit the ' +\n",
              "            '<a target=\"_blank\" href=https://colab.research.google.com/notebooks/data_table.ipynb>data table notebook</a>'\n",
              "            + ' to learn more about interactive tables.';\n",
              "          element.innerHTML = '';\n",
              "          dataTable['output_type'] = 'display_data';\n",
              "          await google.colab.output.renderOutput(dataTable, element);\n",
              "          const docLink = document.createElement('div');\n",
              "          docLink.innerHTML = docLinkHtml;\n",
              "          element.appendChild(docLink);\n",
              "        }\n",
              "      </script>\n",
              "    </div>\n",
              "  </div>\n",
              "  "
            ]
          },
          "metadata": {},
          "execution_count": 4
        }
      ]
    },
    {
      "cell_type": "code",
      "source": [
        "#Views data statistics using describe()\n",
        "data.describe()"
      ],
      "metadata": {
        "colab": {
          "base_uri": "https://localhost:8080/",
          "height": 300
        },
        "id": "hgOUpjk12qfn",
        "outputId": "728a9fd4-62a4-4462-ee2d-14d0b2ce97fd"
      },
      "execution_count": null,
      "outputs": [
        {
          "output_type": "execute_result",
          "data": {
            "text/plain": [
              "       sentiment_polarity_confidence  negativereason_confidence  retweet_count\n",
              "count                   14640.000000               10522.000000   14640.000000\n",
              "mean                        0.900169                   0.638298       0.082650\n",
              "std                         0.162830                   0.330440       0.745778\n",
              "min                         0.335000                   0.000000       0.000000\n",
              "25%                         0.692300                   0.360600       0.000000\n",
              "50%                         1.000000                   0.670600       0.000000\n",
              "75%                         1.000000                   1.000000       0.000000\n",
              "max                         1.000000                   1.000000      44.000000"
            ],
            "text/html": [
              "\n",
              "  <div id=\"df-24969f5f-dba2-469d-91fa-6e75d637a112\">\n",
              "    <div class=\"colab-df-container\">\n",
              "      <div>\n",
              "<style scoped>\n",
              "    .dataframe tbody tr th:only-of-type {\n",
              "        vertical-align: middle;\n",
              "    }\n",
              "\n",
              "    .dataframe tbody tr th {\n",
              "        vertical-align: top;\n",
              "    }\n",
              "\n",
              "    .dataframe thead th {\n",
              "        text-align: right;\n",
              "    }\n",
              "</style>\n",
              "<table border=\"1\" class=\"dataframe\">\n",
              "  <thead>\n",
              "    <tr style=\"text-align: right;\">\n",
              "      <th></th>\n",
              "      <th>sentiment_polarity_confidence</th>\n",
              "      <th>negativereason_confidence</th>\n",
              "      <th>retweet_count</th>\n",
              "    </tr>\n",
              "  </thead>\n",
              "  <tbody>\n",
              "    <tr>\n",
              "      <th>count</th>\n",
              "      <td>14640.000000</td>\n",
              "      <td>10522.000000</td>\n",
              "      <td>14640.000000</td>\n",
              "    </tr>\n",
              "    <tr>\n",
              "      <th>mean</th>\n",
              "      <td>0.900169</td>\n",
              "      <td>0.638298</td>\n",
              "      <td>0.082650</td>\n",
              "    </tr>\n",
              "    <tr>\n",
              "      <th>std</th>\n",
              "      <td>0.162830</td>\n",
              "      <td>0.330440</td>\n",
              "      <td>0.745778</td>\n",
              "    </tr>\n",
              "    <tr>\n",
              "      <th>min</th>\n",
              "      <td>0.335000</td>\n",
              "      <td>0.000000</td>\n",
              "      <td>0.000000</td>\n",
              "    </tr>\n",
              "    <tr>\n",
              "      <th>25%</th>\n",
              "      <td>0.692300</td>\n",
              "      <td>0.360600</td>\n",
              "      <td>0.000000</td>\n",
              "    </tr>\n",
              "    <tr>\n",
              "      <th>50%</th>\n",
              "      <td>1.000000</td>\n",
              "      <td>0.670600</td>\n",
              "      <td>0.000000</td>\n",
              "    </tr>\n",
              "    <tr>\n",
              "      <th>75%</th>\n",
              "      <td>1.000000</td>\n",
              "      <td>1.000000</td>\n",
              "      <td>0.000000</td>\n",
              "    </tr>\n",
              "    <tr>\n",
              "      <th>max</th>\n",
              "      <td>1.000000</td>\n",
              "      <td>1.000000</td>\n",
              "      <td>44.000000</td>\n",
              "    </tr>\n",
              "  </tbody>\n",
              "</table>\n",
              "</div>\n",
              "      <button class=\"colab-df-convert\" onclick=\"convertToInteractive('df-24969f5f-dba2-469d-91fa-6e75d637a112')\"\n",
              "              title=\"Convert this dataframe to an interactive table.\"\n",
              "              style=\"display:none;\">\n",
              "        \n",
              "  <svg xmlns=\"http://www.w3.org/2000/svg\" height=\"24px\"viewBox=\"0 0 24 24\"\n",
              "       width=\"24px\">\n",
              "    <path d=\"M0 0h24v24H0V0z\" fill=\"none\"/>\n",
              "    <path d=\"M18.56 5.44l.94 2.06.94-2.06 2.06-.94-2.06-.94-.94-2.06-.94 2.06-2.06.94zm-11 1L8.5 8.5l.94-2.06 2.06-.94-2.06-.94L8.5 2.5l-.94 2.06-2.06.94zm10 10l.94 2.06.94-2.06 2.06-.94-2.06-.94-.94-2.06-.94 2.06-2.06.94z\"/><path d=\"M17.41 7.96l-1.37-1.37c-.4-.4-.92-.59-1.43-.59-.52 0-1.04.2-1.43.59L10.3 9.45l-7.72 7.72c-.78.78-.78 2.05 0 2.83L4 21.41c.39.39.9.59 1.41.59.51 0 1.02-.2 1.41-.59l7.78-7.78 2.81-2.81c.8-.78.8-2.07 0-2.86zM5.41 20L4 18.59l7.72-7.72 1.47 1.35L5.41 20z\"/>\n",
              "  </svg>\n",
              "      </button>\n",
              "      \n",
              "  <style>\n",
              "    .colab-df-container {\n",
              "      display:flex;\n",
              "      flex-wrap:wrap;\n",
              "      gap: 12px;\n",
              "    }\n",
              "\n",
              "    .colab-df-convert {\n",
              "      background-color: #E8F0FE;\n",
              "      border: none;\n",
              "      border-radius: 50%;\n",
              "      cursor: pointer;\n",
              "      display: none;\n",
              "      fill: #1967D2;\n",
              "      height: 32px;\n",
              "      padding: 0 0 0 0;\n",
              "      width: 32px;\n",
              "    }\n",
              "\n",
              "    .colab-df-convert:hover {\n",
              "      background-color: #E2EBFA;\n",
              "      box-shadow: 0px 1px 2px rgba(60, 64, 67, 0.3), 0px 1px 3px 1px rgba(60, 64, 67, 0.15);\n",
              "      fill: #174EA6;\n",
              "    }\n",
              "\n",
              "    [theme=dark] .colab-df-convert {\n",
              "      background-color: #3B4455;\n",
              "      fill: #D2E3FC;\n",
              "    }\n",
              "\n",
              "    [theme=dark] .colab-df-convert:hover {\n",
              "      background-color: #434B5C;\n",
              "      box-shadow: 0px 1px 3px 1px rgba(0, 0, 0, 0.15);\n",
              "      filter: drop-shadow(0px 1px 2px rgba(0, 0, 0, 0.3));\n",
              "      fill: #FFFFFF;\n",
              "    }\n",
              "  </style>\n",
              "\n",
              "      <script>\n",
              "        const buttonEl =\n",
              "          document.querySelector('#df-24969f5f-dba2-469d-91fa-6e75d637a112 button.colab-df-convert');\n",
              "        buttonEl.style.display =\n",
              "          google.colab.kernel.accessAllowed ? 'block' : 'none';\n",
              "\n",
              "        async function convertToInteractive(key) {\n",
              "          const element = document.querySelector('#df-24969f5f-dba2-469d-91fa-6e75d637a112');\n",
              "          const dataTable =\n",
              "            await google.colab.kernel.invokeFunction('convertToInteractive',\n",
              "                                                     [key], {});\n",
              "          if (!dataTable) return;\n",
              "\n",
              "          const docLinkHtml = 'Like what you see? Visit the ' +\n",
              "            '<a target=\"_blank\" href=https://colab.research.google.com/notebooks/data_table.ipynb>data table notebook</a>'\n",
              "            + ' to learn more about interactive tables.';\n",
              "          element.innerHTML = '';\n",
              "          dataTable['output_type'] = 'display_data';\n",
              "          await google.colab.output.renderOutput(dataTable, element);\n",
              "          const docLink = document.createElement('div');\n",
              "          docLink.innerHTML = docLinkHtml;\n",
              "          element.appendChild(docLink);\n",
              "        }\n",
              "      </script>\n",
              "    </div>\n",
              "  </div>\n",
              "  "
            ]
          },
          "metadata": {},
          "execution_count": 5
        }
      ]
    },
    {
      "cell_type": "code",
      "source": [
        "#shows data information using info()\n",
        "data.info()"
      ],
      "metadata": {
        "colab": {
          "base_uri": "https://localhost:8080/"
        },
        "id": "Tsyv40Rm3EsM",
        "outputId": "d1619255-7644-48a7-ff60-83efc7ab06d1"
      },
      "execution_count": null,
      "outputs": [
        {
          "output_type": "stream",
          "name": "stdout",
          "text": [
            "<class 'pandas.core.frame.DataFrame'>\n",
            "RangeIndex: 14640 entries, 0 to 14639\n",
            "Data columns (total 14 columns):\n",
            " #   Column                         Non-Null Count  Dtype  \n",
            "---  ------                         --------------  -----  \n",
            " 0   sentiment_polarity             14640 non-null  object \n",
            " 1   sentiment_polarity_confidence  14640 non-null  float64\n",
            " 2   negative_reason                9178 non-null   object \n",
            " 3   negativereason_confidence      10522 non-null  float64\n",
            " 4   airline_name                   14640 non-null  object \n",
            " 5   airline_sentiment_gold         40 non-null     object \n",
            " 6   name                           14640 non-null  object \n",
            " 7   negativereason_gold            32 non-null     object \n",
            " 8   retweet_count                  14640 non-null  int64  \n",
            " 9   Review                         14640 non-null  object \n",
            " 10  tweet_coord                    1019 non-null   object \n",
            " 11  tweet_created                  14640 non-null  object \n",
            " 12  tweet_location                 9907 non-null   object \n",
            " 13  user_timezone                  9820 non-null   object \n",
            "dtypes: float64(2), int64(1), object(11)\n",
            "memory usage: 1.6+ MB\n"
          ]
        }
      ]
    },
    {
      "cell_type": "markdown",
      "source": [
        "## Handle Duplicate Values"
      ],
      "metadata": {
        "id": "h5HcKsfI3jSj"
      }
    },
    {
      "cell_type": "code",
      "source": [
        "Duplicate = data.duplicated().sum()/data.shape[0]*100\n",
        "print(\"Total Number Of Duplicate Values = \", Duplicate)"
      ],
      "metadata": {
        "colab": {
          "base_uri": "https://localhost:8080/"
        },
        "id": "G9znnT-O5GO4",
        "outputId": "f3faf2fd-f2ca-4e8d-ad8d-57bf4b93c57c"
      },
      "execution_count": null,
      "outputs": [
        {
          "output_type": "stream",
          "name": "stdout",
          "text": [
            "Total Number Of Duplicate Values =  0.24590163934426232\n"
          ]
        }
      ]
    },
    {
      "cell_type": "code",
      "source": [
        "data.drop_duplicates(keep='first',inplace=True)"
      ],
      "metadata": {
        "id": "13Wpb-SN3PjJ"
      },
      "execution_count": null,
      "outputs": []
    },
    {
      "cell_type": "markdown",
      "source": [
        "# Data Cleaning\n",
        "## Handle Null Values\n",
        "\n",
        "\n",
        "##### Real-world raw data is often incomplete, inconsistent, and lacking in certain behaviors or trends. The raw data contain many errors. that's why Data cleaning is the most important process of correcting or removing corrupt, incorrect, or unnecessary data from a data set before data analysis.\n",
        "\n",
        "\n",
        "Remove missing values and unnecessary columns.\n",
        "\n",
        "Check and impute null values."
      ],
      "metadata": {
        "id": "ESCpRC6t4FWV"
      }
    },
    {
      "cell_type": "code",
      "source": [
        "Total_Val=data.shape[0]\n",
        "Total_per_val=data.isnull().sum()/data.shape[0]*100\n",
        "Miss_Val={\"Total Number of values in data\":Total_Val,\"Total Percentage of missing values is data\":Total_per_val}\n",
        "pd.DataFrame(Miss_Val)"
      ],
      "metadata": {
        "colab": {
          "base_uri": "https://localhost:8080/",
          "height": 488
        },
        "id": "U_KSohBz5xPo",
        "outputId": "1a55819f-4e94-475f-8414-27c013c6a2c8"
      },
      "execution_count": null,
      "outputs": [
        {
          "output_type": "execute_result",
          "data": {
            "text/plain": [
              "                               Total Number of values in data  \\\n",
              "sentiment_polarity                                      14604   \n",
              "sentiment_polarity_confidence                           14604   \n",
              "negative_reason                                         14604   \n",
              "negativereason_confidence                               14604   \n",
              "airline_name                                            14604   \n",
              "airline_sentiment_gold                                  14604   \n",
              "name                                                    14604   \n",
              "negativereason_gold                                     14604   \n",
              "retweet_count                                           14604   \n",
              "Review                                                  14604   \n",
              "tweet_coord                                             14604   \n",
              "tweet_created                                           14604   \n",
              "tweet_location                                          14604   \n",
              "user_timezone                                           14604   \n",
              "\n",
              "                               Total Percentage of missing values is data  \n",
              "sentiment_polarity                                               0.000000  \n",
              "sentiment_polarity_confidence                                    0.000000  \n",
              "negative_reason                                                 37.284306  \n",
              "negativereason_confidence                                       28.081348  \n",
              "airline_name                                                     0.000000  \n",
              "airline_sentiment_gold                                          99.726102  \n",
              "name                                                             0.000000  \n",
              "negativereason_gold                                             99.780882  \n",
              "retweet_count                                                    0.000000  \n",
              "Review                                                           0.000000  \n",
              "tweet_coord                                                     93.049849  \n",
              "tweet_created                                                    0.000000  \n",
              "tweet_location                                                  32.340455  \n",
              "user_timezone                                                   32.963572  "
            ],
            "text/html": [
              "\n",
              "  <div id=\"df-369318d7-444e-433d-8915-9bc5f902db9d\">\n",
              "    <div class=\"colab-df-container\">\n",
              "      <div>\n",
              "<style scoped>\n",
              "    .dataframe tbody tr th:only-of-type {\n",
              "        vertical-align: middle;\n",
              "    }\n",
              "\n",
              "    .dataframe tbody tr th {\n",
              "        vertical-align: top;\n",
              "    }\n",
              "\n",
              "    .dataframe thead th {\n",
              "        text-align: right;\n",
              "    }\n",
              "</style>\n",
              "<table border=\"1\" class=\"dataframe\">\n",
              "  <thead>\n",
              "    <tr style=\"text-align: right;\">\n",
              "      <th></th>\n",
              "      <th>Total Number of values in data</th>\n",
              "      <th>Total Percentage of missing values is data</th>\n",
              "    </tr>\n",
              "  </thead>\n",
              "  <tbody>\n",
              "    <tr>\n",
              "      <th>sentiment_polarity</th>\n",
              "      <td>14604</td>\n",
              "      <td>0.000000</td>\n",
              "    </tr>\n",
              "    <tr>\n",
              "      <th>sentiment_polarity_confidence</th>\n",
              "      <td>14604</td>\n",
              "      <td>0.000000</td>\n",
              "    </tr>\n",
              "    <tr>\n",
              "      <th>negative_reason</th>\n",
              "      <td>14604</td>\n",
              "      <td>37.284306</td>\n",
              "    </tr>\n",
              "    <tr>\n",
              "      <th>negativereason_confidence</th>\n",
              "      <td>14604</td>\n",
              "      <td>28.081348</td>\n",
              "    </tr>\n",
              "    <tr>\n",
              "      <th>airline_name</th>\n",
              "      <td>14604</td>\n",
              "      <td>0.000000</td>\n",
              "    </tr>\n",
              "    <tr>\n",
              "      <th>airline_sentiment_gold</th>\n",
              "      <td>14604</td>\n",
              "      <td>99.726102</td>\n",
              "    </tr>\n",
              "    <tr>\n",
              "      <th>name</th>\n",
              "      <td>14604</td>\n",
              "      <td>0.000000</td>\n",
              "    </tr>\n",
              "    <tr>\n",
              "      <th>negativereason_gold</th>\n",
              "      <td>14604</td>\n",
              "      <td>99.780882</td>\n",
              "    </tr>\n",
              "    <tr>\n",
              "      <th>retweet_count</th>\n",
              "      <td>14604</td>\n",
              "      <td>0.000000</td>\n",
              "    </tr>\n",
              "    <tr>\n",
              "      <th>Review</th>\n",
              "      <td>14604</td>\n",
              "      <td>0.000000</td>\n",
              "    </tr>\n",
              "    <tr>\n",
              "      <th>tweet_coord</th>\n",
              "      <td>14604</td>\n",
              "      <td>93.049849</td>\n",
              "    </tr>\n",
              "    <tr>\n",
              "      <th>tweet_created</th>\n",
              "      <td>14604</td>\n",
              "      <td>0.000000</td>\n",
              "    </tr>\n",
              "    <tr>\n",
              "      <th>tweet_location</th>\n",
              "      <td>14604</td>\n",
              "      <td>32.340455</td>\n",
              "    </tr>\n",
              "    <tr>\n",
              "      <th>user_timezone</th>\n",
              "      <td>14604</td>\n",
              "      <td>32.963572</td>\n",
              "    </tr>\n",
              "  </tbody>\n",
              "</table>\n",
              "</div>\n",
              "      <button class=\"colab-df-convert\" onclick=\"convertToInteractive('df-369318d7-444e-433d-8915-9bc5f902db9d')\"\n",
              "              title=\"Convert this dataframe to an interactive table.\"\n",
              "              style=\"display:none;\">\n",
              "        \n",
              "  <svg xmlns=\"http://www.w3.org/2000/svg\" height=\"24px\"viewBox=\"0 0 24 24\"\n",
              "       width=\"24px\">\n",
              "    <path d=\"M0 0h24v24H0V0z\" fill=\"none\"/>\n",
              "    <path d=\"M18.56 5.44l.94 2.06.94-2.06 2.06-.94-2.06-.94-.94-2.06-.94 2.06-2.06.94zm-11 1L8.5 8.5l.94-2.06 2.06-.94-2.06-.94L8.5 2.5l-.94 2.06-2.06.94zm10 10l.94 2.06.94-2.06 2.06-.94-2.06-.94-.94-2.06-.94 2.06-2.06.94z\"/><path d=\"M17.41 7.96l-1.37-1.37c-.4-.4-.92-.59-1.43-.59-.52 0-1.04.2-1.43.59L10.3 9.45l-7.72 7.72c-.78.78-.78 2.05 0 2.83L4 21.41c.39.39.9.59 1.41.59.51 0 1.02-.2 1.41-.59l7.78-7.78 2.81-2.81c.8-.78.8-2.07 0-2.86zM5.41 20L4 18.59l7.72-7.72 1.47 1.35L5.41 20z\"/>\n",
              "  </svg>\n",
              "      </button>\n",
              "      \n",
              "  <style>\n",
              "    .colab-df-container {\n",
              "      display:flex;\n",
              "      flex-wrap:wrap;\n",
              "      gap: 12px;\n",
              "    }\n",
              "\n",
              "    .colab-df-convert {\n",
              "      background-color: #E8F0FE;\n",
              "      border: none;\n",
              "      border-radius: 50%;\n",
              "      cursor: pointer;\n",
              "      display: none;\n",
              "      fill: #1967D2;\n",
              "      height: 32px;\n",
              "      padding: 0 0 0 0;\n",
              "      width: 32px;\n",
              "    }\n",
              "\n",
              "    .colab-df-convert:hover {\n",
              "      background-color: #E2EBFA;\n",
              "      box-shadow: 0px 1px 2px rgba(60, 64, 67, 0.3), 0px 1px 3px 1px rgba(60, 64, 67, 0.15);\n",
              "      fill: #174EA6;\n",
              "    }\n",
              "\n",
              "    [theme=dark] .colab-df-convert {\n",
              "      background-color: #3B4455;\n",
              "      fill: #D2E3FC;\n",
              "    }\n",
              "\n",
              "    [theme=dark] .colab-df-convert:hover {\n",
              "      background-color: #434B5C;\n",
              "      box-shadow: 0px 1px 3px 1px rgba(0, 0, 0, 0.15);\n",
              "      filter: drop-shadow(0px 1px 2px rgba(0, 0, 0, 0.3));\n",
              "      fill: #FFFFFF;\n",
              "    }\n",
              "  </style>\n",
              "\n",
              "      <script>\n",
              "        const buttonEl =\n",
              "          document.querySelector('#df-369318d7-444e-433d-8915-9bc5f902db9d button.colab-df-convert');\n",
              "        buttonEl.style.display =\n",
              "          google.colab.kernel.accessAllowed ? 'block' : 'none';\n",
              "\n",
              "        async function convertToInteractive(key) {\n",
              "          const element = document.querySelector('#df-369318d7-444e-433d-8915-9bc5f902db9d');\n",
              "          const dataTable =\n",
              "            await google.colab.kernel.invokeFunction('convertToInteractive',\n",
              "                                                     [key], {});\n",
              "          if (!dataTable) return;\n",
              "\n",
              "          const docLinkHtml = 'Like what you see? Visit the ' +\n",
              "            '<a target=\"_blank\" href=https://colab.research.google.com/notebooks/data_table.ipynb>data table notebook</a>'\n",
              "            + ' to learn more about interactive tables.';\n",
              "          element.innerHTML = '';\n",
              "          dataTable['output_type'] = 'display_data';\n",
              "          await google.colab.output.renderOutput(dataTable, element);\n",
              "          const docLink = document.createElement('div');\n",
              "          docLink.innerHTML = docLinkHtml;\n",
              "          element.appendChild(docLink);\n",
              "        }\n",
              "      </script>\n",
              "    </div>\n",
              "  </div>\n",
              "  "
            ]
          },
          "metadata": {},
          "execution_count": 9
        }
      ]
    },
    {
      "cell_type": "code",
      "source": [
        "#let's views the missing values in graph  \n",
        "import missingno as msno\n",
        "msno.bar(data,color=['b'],sort = 'ascending')\n",
        "plt.title('Checking Missing Values  of the data', fontsize = 20,color='Y')"
      ],
      "metadata": {
        "colab": {
          "base_uri": "https://localhost:8080/",
          "height": 752
        },
        "id": "Sx0GDjqe30mC",
        "outputId": "5010b5d7-ce02-411c-bd0a-679fa4d8ac07"
      },
      "execution_count": null,
      "outputs": [
        {
          "output_type": "execute_result",
          "data": {
            "text/plain": [
              "Text(0.5, 1.0, 'Checking Missing Values  of the data')"
            ]
          },
          "metadata": {},
          "execution_count": 10
        },
        {
          "output_type": "stream",
          "name": "stderr",
          "text": [
            "/usr/local/lib/python3.7/dist-packages/IPython/core/events.py:88: MatplotlibDeprecationWarning: Support for uppercase single-letter colors is deprecated since Matplotlib 3.1 and will be removed in 3.3; please use lowercase instead.\n",
            "  func(*args, **kwargs)\n"
          ]
        },
        {
          "output_type": "display_data",
          "data": {
            "text/plain": [
              "<Figure size 1800x720 with 3 Axes>"
            ],
            "image/png": "[encoded data removed]"
          },
          "metadata": {
            "needs_background": "light"
          }
        }
      ]
    },
    {
      "cell_type": "markdown",
      "source": [
        "#### Remove Columns because these columns in 50% above missing values. unless you will not remove missing values your model does not better work."
      ],
      "metadata": {
        "id": "oIGBDtqpvuEv"
      }
    },
    {
      "cell_type": "code",
      "source": [
        "data.drop(columns=['negativereason_gold','airline_sentiment_gold','tweet_coord','negative_reason'],inplace=True)"
      ],
      "metadata": {
        "id": "sB563sN7YGgX"
      },
      "execution_count": null,
      "outputs": []
    },
    {
      "cell_type": "markdown",
      "source": [
        "##Input missing data\n",
        "Technically, the method described of filling in individual values standards is also a form of inputting missing data. When it comes to inputting missing data you can use \"fillna\" method using the code below or manually fill in the correct data.\n",
        "\n"
      ],
      "metadata": {
        "id": "TYtdx-UEgM23"
      }
    },
    {
      "cell_type": "code",
      "source": [
        "#imputing missing values\n",
        "data[\"negativereason_confidence\"]=data[\"negativereason_confidence\"].fillna(data[\"negativereason_confidence\"].mean()) # Numerical Column.\n",
        "data[\"tweet_location\"]=data[\"tweet_location\"].fillna(data[\"tweet_location\"].mode()[0]) # catgorical column.\n",
        "data[\"user_timezone\"]=data[\"user_timezone\"].fillna(data[\"user_timezone\"].mode()[0]) # catgorical column.\n"
      ],
      "metadata": {
        "id": "iJ9JimZ1gU4D"
      },
      "execution_count": null,
      "outputs": []
    },
    {
      "cell_type": "markdown",
      "source": [
        "#EDA"
      ],
      "metadata": {
        "id": "ylBMfi15goBH"
      }
    },
    {
      "cell_type": "code",
      "source": [
        "# let's Review sentiment polarity in percent by Customer.\n",
        "plt.figure(figsize=(15,10))\n",
        "data['sentiment_polarity'].value_counts().plot(kind='pie',autopct='%1.0f%%',\n",
        "                                               cmap = 'coolwarm_r')\n",
        "plt.axis('Off')\n",
        "plt.title('Given Reviews by Customer ', fontsize = 15)"
      ],
      "metadata": {
        "colab": {
          "base_uri": "https://localhost:8080/",
          "height": 609
        },
        "id": "XqL6kOzC4XiR",
        "outputId": "fe1b7cd2-5bf3-451b-cebe-babdb01c7fb0"
      },
      "execution_count": null,
      "outputs": [
        {
          "output_type": "execute_result",
          "data": {
            "text/plain": [
              "Text(0.5, 1.0, 'Given Reviews by Customer ')"
            ]
          },
          "metadata": {},
          "execution_count": 13
        },
        {
          "output_type": "display_data",
          "data": {
            "text/plain": [
              "<Figure size 1080x720 with 1 Axes>"
            ],
            "image/png": "[encoded data removed]"
          },
          "metadata": {}
        }
      ]
    },
    {
      "cell_type": "code",
      "source": [
        "#Airline Name, Which has done mostly used by the Customer for traveling.\n",
        "plt.figure(figsize=(15,10))\n",
        "data['airline_name'].value_counts().plot(kind = 'pie',autopct='%1.0f%%', cmap = 'coolwarm_r',)\n",
        "plt.title('Airline Name used by Customer.', fontsize = 15)\n",
        "plt.axis('off')\n",
        "plt.show()"
      ],
      "metadata": {
        "colab": {
          "base_uri": "https://localhost:8080/",
          "height": 592
        },
        "id": "uq87kcKjb2uN",
        "outputId": "10c6087e-54db-415d-ceac-74cbf274841f"
      },
      "execution_count": null,
      "outputs": [
        {
          "output_type": "display_data",
          "data": {
            "text/plain": [
              "<Figure size 1080x720 with 1 Axes>"
            ],
            "image/png": "[encoded data removed]"
          },
          "metadata": {}
        }
      ]
    },
    {
      "cell_type": "code",
      "source": [
        "# Views Airlines Company gives how many Negative & Positive reviews by customers.\n",
        "data.iloc[data.groupby(data['airline_name'])['retweet_count'].idxmax()][['airline_name','sentiment_polarity', 'Review'\n",
        "                             ,'retweet_count']].sort_values(by ='retweet_count',\n",
        "                                        ascending = False,).style.background_gradient(cmap = 'RdYlBu')"
      ],
      "metadata": {
        "colab": {
          "base_uri": "https://localhost:8080/",
          "height": 272
        },
        "id": "GNt_oUK-Ye5h",
        "outputId": "e872b0ab-1eb1-4b6c-e3ca-08f9b8f0ed04"
      },
      "execution_count": null,
      "outputs": [
        {
          "output_type": "execute_result",
          "data": {
            "text/plain": [
              "<pandas.io.formats.style.Styler at 0x7f4feed29950>"
            ],
            "text/html": [
              "<style type=\"text/css\">\n",
              "#T_e947a_row0_col3 {\n",
              "  background-color: #313695;\n",
              "  color: #f1f1f1;\n",
              "}\n",
              "#T_e947a_row1_col3 {\n",
              "  background-color: #a8d6e8;\n",
              "  color: #000000;\n",
              "}\n",
              "#T_e947a_row2_col3 {\n",
              "  background-color: #feffc0;\n",
              "  color: #000000;\n",
              "}\n",
              "#T_e947a_row3_col3 {\n",
              "  background-color: #e75337;\n",
              "  color: #f1f1f1;\n",
              "}\n",
              "#T_e947a_row4_col3 {\n",
              "  background-color: #d22b27;\n",
              "  color: #f1f1f1;\n",
              "}\n",
              "#T_e947a_row5_col3 {\n",
              "  background-color: #a50026;\n",
              "  color: #f1f1f1;\n",
              "}\n",
              "</style>\n",
              "<table id=\"T_e947a_\" class=\"dataframe\">\n",
              "  <thead>\n",
              "    <tr>\n",
              "      <th class=\"blank level0\" >&nbsp;</th>\n",
              "      <th class=\"col_heading level0 col0\" >airline_name</th>\n",
              "      <th class=\"col_heading level0 col1\" >sentiment_polarity</th>\n",
              "      <th class=\"col_heading level0 col2\" >Review</th>\n",
              "      <th class=\"col_heading level0 col3\" >retweet_count</th>\n",
              "    </tr>\n",
              "  </thead>\n",
              "  <tbody>\n",
              "    <tr>\n",
              "      <th id=\"T_e947a_level0_row0\" class=\"row_heading level0 row0\" >11596</th>\n",
              "      <td id=\"T_e947a_row0_col0\" class=\"data row0 col0\" >US Airways</td>\n",
              "      <td id=\"T_e947a_row0_col1\" class=\"data row0 col1\" >negative</td>\n",
              "      <td id=\"T_e947a_row0_col2\" class=\"data row0 col2\" >@USAirways 5 hr flight delay and a delay when we land . Is that even real life ? Get me off this plane , I wanna go home 👠👠👠 (3 heel clicks)</td>\n",
              "      <td id=\"T_e947a_row0_col3\" class=\"data row0 col3\" >44</td>\n",
              "    </tr>\n",
              "    <tr>\n",
              "      <th id=\"T_e947a_level0_row1\" class=\"row_heading level0 row1\" >7132</th>\n",
              "      <td id=\"T_e947a_row1_col0\" class=\"data row1 col0\" >Delta</td>\n",
              "      <td id=\"T_e947a_row1_col1\" class=\"data row1 col1\" >negative</td>\n",
              "      <td id=\"T_e947a_row1_col2\" class=\"data row1 col2\" >STOP. USING.THIS.WORD. IF. YOU'RE. A. COMPANY. RT @JetBlue: Our fleet's on fleek. http://t.co/Fd2TNYcTrB</td>\n",
              "      <td id=\"T_e947a_row1_col3\" class=\"data row1 col3\" >31</td>\n",
              "    </tr>\n",
              "    <tr>\n",
              "      <th id=\"T_e947a_level0_row2\" class=\"row_heading level0 row2\" >5607</th>\n",
              "      <td id=\"T_e947a_row2_col0\" class=\"data row2 col0\" >Southwest</td>\n",
              "      <td id=\"T_e947a_row2_col1\" class=\"data row2 col1\" >positive</td>\n",
              "      <td id=\"T_e947a_row2_col2\" class=\"data row2 col2\" >@SouthwestAir beautiful day in Seattle! http://t.co/iqu0PPVq2S</td>\n",
              "      <td id=\"T_e947a_row2_col3\" class=\"data row2 col3\" >22</td>\n",
              "    </tr>\n",
              "    <tr>\n",
              "      <th id=\"T_e947a_level0_row3\" class=\"row_heading level0 row3\" >4144</th>\n",
              "      <td id=\"T_e947a_row3_col0\" class=\"data row3 col0\" >United</td>\n",
              "      <td id=\"T_e947a_row3_col1\" class=\"data row3 col1\" >negative</td>\n",
              "      <td id=\"T_e947a_row3_col2\" class=\"data row3 col2\" >@united But I got a bad exchange rate so want my money back. Please can you refund without penalty.</td>\n",
              "      <td id=\"T_e947a_row3_col3\" class=\"data row3 col3\" >7</td>\n",
              "    </tr>\n",
              "    <tr>\n",
              "      <th id=\"T_e947a_level0_row4\" class=\"row_heading level0 row4\" >445</th>\n",
              "      <td id=\"T_e947a_row4_col0\" class=\"data row4 col0\" >Virgin America</td>\n",
              "      <td id=\"T_e947a_row4_col1\" class=\"data row4 col1\" >neutral</td>\n",
              "      <td id=\"T_e947a_row4_col2\" class=\"data row4 col2\" >@VirginAmerica @AmericanAir can u help with flights to get a 2y old battling cancer who needs treatment in 🇺🇸 @FreyaBevan_Fund 💗 🎀 💗</td>\n",
              "      <td id=\"T_e947a_row4_col3\" class=\"data row4 col3\" >4</td>\n",
              "    </tr>\n",
              "    <tr>\n",
              "      <th id=\"T_e947a_level0_row5\" class=\"row_heading level0 row5\" >12716</th>\n",
              "      <td id=\"T_e947a_row5_col0\" class=\"data row5 col0\" >American</td>\n",
              "      <td id=\"T_e947a_row5_col1\" class=\"data row5 col1\" >negative</td>\n",
              "      <td id=\"T_e947a_row5_col2\" class=\"data row5 col2\" >@AmericanAir right so I missed my connection / had a three hour Kay over / then you lost my bag.</td>\n",
              "      <td id=\"T_e947a_row5_col3\" class=\"data row5 col3\" >0</td>\n",
              "    </tr>\n",
              "  </tbody>\n",
              "</table>\n"
            ]
          },
          "metadata": {},
          "execution_count": 15
        }
      ]
    },
    {
      "cell_type": "code",
      "source": [
        "plt.figure(figsize=(20,10))\n",
        "corr_rel=data.corr()\n",
        "sns.heatmap(corr_rel,cmap=\"RdYlBu\",annot=True)\n",
        "corr_rel\n"
      ],
      "metadata": {
        "colab": {
          "base_uri": "https://localhost:8080/",
          "height": 722
        },
        "id": "Ai36zGTSVvrD",
        "outputId": "808d95f6-fe44-4692-f772-b98ba7ce7961"
      },
      "execution_count": null,
      "outputs": [
        {
          "output_type": "execute_result",
          "data": {
            "text/plain": [
              "                               sentiment_polarity_confidence  \\\n",
              "sentiment_polarity_confidence                       1.000000   \n",
              "negativereason_confidence                           0.602854   \n",
              "retweet_count                                       0.012699   \n",
              "\n",
              "                               negativereason_confidence  retweet_count  \n",
              "sentiment_polarity_confidence                   0.602854       0.012699  \n",
              "negativereason_confidence                       1.000000       0.018709  \n",
              "retweet_count                                   0.018709       1.000000  "
            ],
            "text/html": [
              "\n",
              "  <div id=\"df-e350b9ce-fe6c-4834-920e-78da8a54a2b4\">\n",
              "    <div class=\"colab-df-container\">\n",
              "      <div>\n",
              "<style scoped>\n",
              "    .dataframe tbody tr th:only-of-type {\n",
              "        vertical-align: middle;\n",
              "    }\n",
              "\n",
              "    .dataframe tbody tr th {\n",
              "        vertical-align: top;\n",
              "    }\n",
              "\n",
              "    .dataframe thead th {\n",
              "        text-align: right;\n",
              "    }\n",
              "</style>\n",
              "<table border=\"1\" class=\"dataframe\">\n",
              "  <thead>\n",
              "    <tr style=\"text-align: right;\">\n",
              "      <th></th>\n",
              "      <th>sentiment_polarity_confidence</th>\n",
              "      <th>negativereason_confidence</th>\n",
              "      <th>retweet_count</th>\n",
              "    </tr>\n",
              "  </thead>\n",
              "  <tbody>\n",
              "    <tr>\n",
              "      <th>sentiment_polarity_confidence</th>\n",
              "      <td>1.000000</td>\n",
              "      <td>0.602854</td>\n",
              "      <td>0.012699</td>\n",
              "    </tr>\n",
              "    <tr>\n",
              "      <th>negativereason_confidence</th>\n",
              "      <td>0.602854</td>\n",
              "      <td>1.000000</td>\n",
              "      <td>0.018709</td>\n",
              "    </tr>\n",
              "    <tr>\n",
              "      <th>retweet_count</th>\n",
              "      <td>0.012699</td>\n",
              "      <td>0.018709</td>\n",
              "      <td>1.000000</td>\n",
              "    </tr>\n",
              "  </tbody>\n",
              "</table>\n",
              "</div>\n",
              "      <button class=\"colab-df-convert\" onclick=\"convertToInteractive('df-e350b9ce-fe6c-4834-920e-78da8a54a2b4')\"\n",
              "              title=\"Convert this dataframe to an interactive table.\"\n",
              "              style=\"display:none;\">\n",
              "        \n",
              "  <svg xmlns=\"http://www.w3.org/2000/svg\" height=\"24px\"viewBox=\"0 0 24 24\"\n",
              "       width=\"24px\">\n",
              "    <path d=\"M0 0h24v24H0V0z\" fill=\"none\"/>\n",
              "    <path d=\"M18.56 5.44l.94 2.06.94-2.06 2.06-.94-2.06-.94-.94-2.06-.94 2.06-2.06.94zm-11 1L8.5 8.5l.94-2.06 2.06-.94-2.06-.94L8.5 2.5l-.94 2.06-2.06.94zm10 10l.94 2.06.94-2.06 2.06-.94-2.06-.94-.94-2.06-.94 2.06-2.06.94z\"/><path d=\"M17.41 7.96l-1.37-1.37c-.4-.4-.92-.59-1.43-.59-.52 0-1.04.2-1.43.59L10.3 9.45l-7.72 7.72c-.78.78-.78 2.05 0 2.83L4 21.41c.39.39.9.59 1.41.59.51 0 1.02-.2 1.41-.59l7.78-7.78 2.81-2.81c.8-.78.8-2.07 0-2.86zM5.41 20L4 18.59l7.72-7.72 1.47 1.35L5.41 20z\"/>\n",
              "  </svg>\n",
              "      </button>\n",
              "      \n",
              "  <style>\n",
              "    .colab-df-container {\n",
              "      display:flex;\n",
              "      flex-wrap:wrap;\n",
              "      gap: 12px;\n",
              "    }\n",
              "\n",
              "    .colab-df-convert {\n",
              "      background-color: #E8F0FE;\n",
              "      border: none;\n",
              "      border-radius: 50%;\n",
              "      cursor: pointer;\n",
              "      display: none;\n",
              "      fill: #1967D2;\n",
              "      height: 32px;\n",
              "      padding: 0 0 0 0;\n",
              "      width: 32px;\n",
              "    }\n",
              "\n",
              "    .colab-df-convert:hover {\n",
              "      background-color: #E2EBFA;\n",
              "      box-shadow: 0px 1px 2px rgba(60, 64, 67, 0.3), 0px 1px 3px 1px rgba(60, 64, 67, 0.15);\n",
              "      fill: #174EA6;\n",
              "    }\n",
              "\n",
              "    [theme=dark] .colab-df-convert {\n",
              "      background-color: #3B4455;\n",
              "      fill: #D2E3FC;\n",
              "    }\n",
              "\n",
              "    [theme=dark] .colab-df-convert:hover {\n",
              "      background-color: #434B5C;\n",
              "      box-shadow: 0px 1px 3px 1px rgba(0, 0, 0, 0.15);\n",
              "      filter: drop-shadow(0px 1px 2px rgba(0, 0, 0, 0.3));\n",
              "      fill: #FFFFFF;\n",
              "    }\n",
              "  </style>\n",
              "\n",
              "      <script>\n",
              "        const buttonEl =\n",
              "          document.querySelector('#df-e350b9ce-fe6c-4834-920e-78da8a54a2b4 button.colab-df-convert');\n",
              "        buttonEl.style.display =\n",
              "          google.colab.kernel.accessAllowed ? 'block' : 'none';\n",
              "\n",
              "        async function convertToInteractive(key) {\n",
              "          const element = document.querySelector('#df-e350b9ce-fe6c-4834-920e-78da8a54a2b4');\n",
              "          const dataTable =\n",
              "            await google.colab.kernel.invokeFunction('convertToInteractive',\n",
              "                                                     [key], {});\n",
              "          if (!dataTable) return;\n",
              "\n",
              "          const docLinkHtml = 'Like what you see? Visit the ' +\n",
              "            '<a target=\"_blank\" href=https://colab.research.google.com/notebooks/data_table.ipynb>data table notebook</a>'\n",
              "            + ' to learn more about interactive tables.';\n",
              "          element.innerHTML = '';\n",
              "          dataTable['output_type'] = 'display_data';\n",
              "          await google.colab.output.renderOutput(dataTable, element);\n",
              "          const docLink = document.createElement('div');\n",
              "          docLink.innerHTML = docLinkHtml;\n",
              "          element.appendChild(docLink);\n",
              "        }\n",
              "      </script>\n",
              "    </div>\n",
              "  </div>\n",
              "  "
            ]
          },
          "metadata": {},
          "execution_count": 16
        },
        {
          "output_type": "display_data",
          "data": {
            "text/plain": [
              "<Figure size 1440x720 with 2 Axes>"
            ],
            "image/png": "[encoded data removed]"
          },
          "metadata": {
            "needs_background": "light"
          }
        }
      ]
    },
    {
      "cell_type": "markdown",
      "source": [
        "#Data Preprocessing"
      ],
      "metadata": {
        "id": "7jZLo5kpgrzr"
      }
    },
    {
      "cell_type": "markdown",
      "source": [
        "##Clean the text data used in NLP libraries\n",
        "######Lower Case\n",
        "######Unicode Characters\n",
        "######Normalize\n",
        "######Removing Stopwords\n",
        "######Removing Special Characters"
      ],
      "metadata": {
        "id": "VEkvMVKN8CQr"
      }
    },
    {
      "cell_type": "code",
      "source": [
        "!pip install nltk"
      ],
      "metadata": {
        "colab": {
          "base_uri": "https://localhost:8080/"
        },
        "id": "EbmsU4ODMAmG",
        "outputId": "9667c1a6-c37a-4588-a201-bb3a865962c3"
      },
      "execution_count": null,
      "outputs": [
        {
          "output_type": "stream",
          "name": "stdout",
          "text": [
            "Looking in indexes: https://pypi.org/simple, https://us-python.pkg.dev/colab-wheels/public/simple/\n",
            "Requirement already satisfied: nltk in /usr/local/lib/python3.7/dist-packages (3.7)\n",
            "Requirement already satisfied: click in /usr/local/lib/python3.7/dist-packages (from nltk) (7.1.2)\n",
            "Requirement already satisfied: tqdm in /usr/local/lib/python3.7/dist-packages (from nltk) (4.64.1)\n",
            "Requirement already satisfied: joblib in /usr/local/lib/python3.7/dist-packages (from nltk) (1.2.0)\n",
            "Requirement already satisfied: regex>=2021.8.3 in /usr/local/lib/python3.7/dist-packages (from nltk) (2022.6.2)\n"
          ]
        }
      ]
    },
    {
      "cell_type": "code",
      "source": [
        "import nltk\n",
        "nltk.download('punkt')\n",
        "from nltk.corpus import stopwords\n",
        "nltk.download('stopwords')\n",
        "import string"
      ],
      "metadata": {
        "colab": {
          "base_uri": "https://localhost:8080/"
        },
        "id": "0o10ww1k8O4i",
        "outputId": "cc987e10-1103-4108-d933-066db5802468"
      },
      "execution_count": null,
      "outputs": [
        {
          "output_type": "stream",
          "name": "stderr",
          "text": [
            "[nltk_data] Downloading package punkt to /root/nltk_data...\n",
            "[nltk_data]   Package punkt is already up-to-date!\n",
            "[nltk_data] Downloading package stopwords to /root/nltk_data...\n",
            "[nltk_data]   Package stopwords is already up-to-date!\n"
          ]
        }
      ]
    },
    {
      "cell_type": "code",
      "source": [
        "#Create Function For Text Cleaning\n",
        "def transform_char(text):\n",
        "  text=text.lower()\n",
        "  text=nltk.word_tokenize(text)\n",
        "  \n",
        "  y = []\n",
        "  for i in text:\n",
        "    if i.isalnum():\n",
        "      y.append(i)\n",
        "  text=y[:]\n",
        "  y.clear()\n",
        "\n",
        "  for i in text:\n",
        "    if i not in stopwords.words('english') and i not in string.punctuation:\n",
        "      y.append(i)\n",
        "\n",
        "  return y"
      ],
      "metadata": {
        "id": "RbUD7OxVa-Mf"
      },
      "execution_count": null,
      "outputs": []
    },
    {
      "cell_type": "code",
      "source": [
        "data['Review'][4]"
      ],
      "metadata": {
        "colab": {
          "base_uri": "https://localhost:8080/",
          "height": 35
        },
        "id": "1qgyMMU8T66_",
        "outputId": "f7d8f8f1-8f26-48fc-dfae-6b2c5b4c5fe5"
      },
      "execution_count": null,
      "outputs": [
        {
          "output_type": "execute_result",
          "data": {
            "text/plain": [
              "\"@VirginAmerica and it's a really big bad thing about it\""
            ],
            "application/vnd.google.colaboratory.intrinsic+json": {
              "type": "string"
            }
          },
          "metadata": {},
          "execution_count": 20
        }
      ]
    },
    {
      "cell_type": "code",
      "source": [
        "# Apply Function For Clean text\n",
        "data['Clean_Review']=data['Review'].apply(transform_char)"
      ],
      "metadata": {
        "id": "gn7G1dH_NFOB"
      },
      "execution_count": null,
      "outputs": []
    },
    {
      "cell_type": "code",
      "source": [
        "data['Clean_Review'][4]"
      ],
      "metadata": {
        "colab": {
          "base_uri": "https://localhost:8080/"
        },
        "id": "vdfgWN9zNNTn",
        "outputId": "9fdd14b2-a27c-4baf-d21b-d2d7b8e32d65"
      },
      "execution_count": null,
      "outputs": [
        {
          "output_type": "execute_result",
          "data": {
            "text/plain": [
              "['virginamerica', 'really', 'big', 'bad', 'thing']"
            ]
          },
          "metadata": {},
          "execution_count": 22
        }
      ]
    },
    {
      "cell_type": "code",
      "source": [
        "data.sample(3)"
      ],
      "metadata": {
        "colab": {
          "base_uri": "https://localhost:8080/",
          "height": 364
        },
        "id": "TgBziCwuUxsu",
        "outputId": "f535eead-1f23-47c8-bc1f-829696c24476"
      },
      "execution_count": null,
      "outputs": [
        {
          "output_type": "execute_result",
          "data": {
            "text/plain": [
              "      sentiment_polarity  sentiment_polarity_confidence  \\\n",
              "10832           positive                         1.0000   \n",
              "5592             neutral                         0.6505   \n",
              "11164           positive                         1.0000   \n",
              "\n",
              "       negativereason_confidence airline_name            name  retweet_count  \\\n",
              "10832                   0.637644   US Airways     MikeSelesky              0   \n",
              "5592                    0.637644    Southwest       franks105              0   \n",
              "11164                   0.637644   US Airways  cahillwilliamr              0   \n",
              "\n",
              "                                                  Review   tweet_created  \\\n",
              "10832  @USAirways awesome! Flight #676 out of philly ...  20/02/15 10:24   \n",
              "5592       @SouthwestAir how many left?! I'm 15 min wway  20/02/15 13:09   \n",
              "11164  @USAirways #success made flight , please thank...   19/02/15 9:58   \n",
              "\n",
              "      tweet_location               user_timezone  \\\n",
              "10832     Boston, MA  Eastern Time (US & Canada)   \n",
              "5592        Hogwarts  Pacific Time (US & Canada)   \n",
              "11164     Boston, MA  Eastern Time (US & Canada)   \n",
              "\n",
              "                                            Clean_Review  \n",
              "10832  [usairways, awesome, flight, 676, philly, tues...  \n",
              "5592           [southwestair, many, left, 15, min, wway]  \n",
              "11164  [usairways, success, made, flight, please, tha...  "
            ],
            "text/html": [
              "\n",
              "  <div id=\"df-32e5f728-a681-44c4-bf29-7518bc9e8ed0\">\n",
              "    <div class=\"colab-df-container\">\n",
              "      <div>\n",
              "<style scoped>\n",
              "    .dataframe tbody tr th:only-of-type {\n",
              "        vertical-align: middle;\n",
              "    }\n",
              "\n",
              "    .dataframe tbody tr th {\n",
              "        vertical-align: top;\n",
              "    }\n",
              "\n",
              "    .dataframe thead th {\n",
              "        text-align: right;\n",
              "    }\n",
              "</style>\n",
              "<table border=\"1\" class=\"dataframe\">\n",
              "  <thead>\n",
              "    <tr style=\"text-align: right;\">\n",
              "      <th></th>\n",
              "      <th>sentiment_polarity</th>\n",
              "      <th>sentiment_polarity_confidence</th>\n",
              "      <th>negativereason_confidence</th>\n",
              "      <th>airline_name</th>\n",
              "      <th>name</th>\n",
              "      <th>retweet_count</th>\n",
              "      <th>Review</th>\n",
              "      <th>tweet_created</th>\n",
              "      <th>tweet_location</th>\n",
              "      <th>user_timezone</th>\n",
              "      <th>Clean_Review</th>\n",
              "    </tr>\n",
              "  </thead>\n",
              "  <tbody>\n",
              "    <tr>\n",
              "      <th>10832</th>\n",
              "      <td>positive</td>\n",
              "      <td>1.0000</td>\n",
              "      <td>0.637644</td>\n",
              "      <td>US Airways</td>\n",
              "      <td>MikeSelesky</td>\n",
              "      <td>0</td>\n",
              "      <td>@USAirways awesome! Flight #676 out of philly ...</td>\n",
              "      <td>20/02/15 10:24</td>\n",
              "      <td>Boston, MA</td>\n",
              "      <td>Eastern Time (US &amp; Canada)</td>\n",
              "      <td>[usairways, awesome, flight, 676, philly, tues...</td>\n",
              "    </tr>\n",
              "    <tr>\n",
              "      <th>5592</th>\n",
              "      <td>neutral</td>\n",
              "      <td>0.6505</td>\n",
              "      <td>0.637644</td>\n",
              "      <td>Southwest</td>\n",
              "      <td>franks105</td>\n",
              "      <td>0</td>\n",
              "      <td>@SouthwestAir how many left?! I'm 15 min wway</td>\n",
              "      <td>20/02/15 13:09</td>\n",
              "      <td>Hogwarts</td>\n",
              "      <td>Pacific Time (US &amp; Canada)</td>\n",
              "      <td>[southwestair, many, left, 15, min, wway]</td>\n",
              "    </tr>\n",
              "    <tr>\n",
              "      <th>11164</th>\n",
              "      <td>positive</td>\n",
              "      <td>1.0000</td>\n",
              "      <td>0.637644</td>\n",
              "      <td>US Airways</td>\n",
              "      <td>cahillwilliamr</td>\n",
              "      <td>0</td>\n",
              "      <td>@USAirways #success made flight , please thank...</td>\n",
              "      <td>19/02/15 9:58</td>\n",
              "      <td>Boston, MA</td>\n",
              "      <td>Eastern Time (US &amp; Canada)</td>\n",
              "      <td>[usairways, success, made, flight, please, tha...</td>\n",
              "    </tr>\n",
              "  </tbody>\n",
              "</table>\n",
              "</div>\n",
              "      <button class=\"colab-df-convert\" onclick=\"convertToInteractive('df-32e5f728-a681-44c4-bf29-7518bc9e8ed0')\"\n",
              "              title=\"Convert this dataframe to an interactive table.\"\n",
              "              style=\"display:none;\">\n",
              "        \n",
              "  <svg xmlns=\"http://www.w3.org/2000/svg\" height=\"24px\"viewBox=\"0 0 24 24\"\n",
              "       width=\"24px\">\n",
              "    <path d=\"M0 0h24v24H0V0z\" fill=\"none\"/>\n",
              "    <path d=\"M18.56 5.44l.94 2.06.94-2.06 2.06-.94-2.06-.94-.94-2.06-.94 2.06-2.06.94zm-11 1L8.5 8.5l.94-2.06 2.06-.94-2.06-.94L8.5 2.5l-.94 2.06-2.06.94zm10 10l.94 2.06.94-2.06 2.06-.94-2.06-.94-.94-2.06-.94 2.06-2.06.94z\"/><path d=\"M17.41 7.96l-1.37-1.37c-.4-.4-.92-.59-1.43-.59-.52 0-1.04.2-1.43.59L10.3 9.45l-7.72 7.72c-.78.78-.78 2.05 0 2.83L4 21.41c.39.39.9.59 1.41.59.51 0 1.02-.2 1.41-.59l7.78-7.78 2.81-2.81c.8-.78.8-2.07 0-2.86zM5.41 20L4 18.59l7.72-7.72 1.47 1.35L5.41 20z\"/>\n",
              "  </svg>\n",
              "      </button>\n",
              "      \n",
              "  <style>\n",
              "    .colab-df-container {\n",
              "      display:flex;\n",
              "      flex-wrap:wrap;\n",
              "      gap: 12px;\n",
              "    }\n",
              "\n",
              "    .colab-df-convert {\n",
              "      background-color: #E8F0FE;\n",
              "      border: none;\n",
              "      border-radius: 50%;\n",
              "      cursor: pointer;\n",
              "      display: none;\n",
              "      fill: #1967D2;\n",
              "      height: 32px;\n",
              "      padding: 0 0 0 0;\n",
              "      width: 32px;\n",
              "    }\n",
              "\n",
              "    .colab-df-convert:hover {\n",
              "      background-color: #E2EBFA;\n",
              "      box-shadow: 0px 1px 2px rgba(60, 64, 67, 0.3), 0px 1px 3px 1px rgba(60, 64, 67, 0.15);\n",
              "      fill: #174EA6;\n",
              "    }\n",
              "\n",
              "    [theme=dark] .colab-df-convert {\n",
              "      background-color: #3B4455;\n",
              "      fill: #D2E3FC;\n",
              "    }\n",
              "\n",
              "    [theme=dark] .colab-df-convert:hover {\n",
              "      background-color: #434B5C;\n",
              "      box-shadow: 0px 1px 3px 1px rgba(0, 0, 0, 0.15);\n",
              "      filter: drop-shadow(0px 1px 2px rgba(0, 0, 0, 0.3));\n",
              "      fill: #FFFFFF;\n",
              "    }\n",
              "  </style>\n",
              "\n",
              "      <script>\n",
              "        const buttonEl =\n",
              "          document.querySelector('#df-32e5f728-a681-44c4-bf29-7518bc9e8ed0 button.colab-df-convert');\n",
              "        buttonEl.style.display =\n",
              "          google.colab.kernel.accessAllowed ? 'block' : 'none';\n",
              "\n",
              "        async function convertToInteractive(key) {\n",
              "          const element = document.querySelector('#df-32e5f728-a681-44c4-bf29-7518bc9e8ed0');\n",
              "          const dataTable =\n",
              "            await google.colab.kernel.invokeFunction('convertToInteractive',\n",
              "                                                     [key], {});\n",
              "          if (!dataTable) return;\n",
              "\n",
              "          const docLinkHtml = 'Like what you see? Visit the ' +\n",
              "            '<a target=\"_blank\" href=https://colab.research.google.com/notebooks/data_table.ipynb>data table notebook</a>'\n",
              "            + ' to learn more about interactive tables.';\n",
              "          element.innerHTML = '';\n",
              "          dataTable['output_type'] = 'display_data';\n",
              "          await google.colab.output.renderOutput(dataTable, element);\n",
              "          const docLink = document.createElement('div');\n",
              "          docLink.innerHTML = docLinkHtml;\n",
              "          element.appendChild(docLink);\n",
              "        }\n",
              "      </script>\n",
              "    </div>\n",
              "  </div>\n",
              "  "
            ]
          },
          "metadata": {},
          "execution_count": 23
        }
      ]
    },
    {
      "cell_type": "markdown",
      "source": [
        "#### I did perform EDA in this data set during that I found Null values, and    Duplicated data, and then I handled clean missing values & duplicate values.I need to do some text cleaning because in this data set I found NAME, and REVIEW columns have some irrelevant values lake Number, Special Characters. "
      ],
      "metadata": {
        "id": "tx1E2JDHXtOi"
      }
    },
    {
      "cell_type": "code",
      "source": [],
      "metadata": {
        "id": "SHpQwxnZXavR"
      },
      "execution_count": null,
      "outputs": []
    }
  ]
}