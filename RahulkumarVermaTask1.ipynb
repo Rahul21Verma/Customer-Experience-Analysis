{
  "nbformat": 4,
  "nbformat_minor": 0,
  "metadata": {
    "colab": {
      "provenance": [],
      "collapsed_sections": []
    },
    "kernelspec": {
      "name": "python3",
      "display_name": "Python 3"
    },
    "language_info": {
      "name": "python"
    }
  },
  "cells": [
    {
      "cell_type": "markdown",
      "source": [
        "#Data cleaning, aka data cleansing, is an integral part of data preparation. if your Data is dirty corrupt, incorrect, or unnecessary then you will not have a good analysis. If you want to go into the modern market then you are not going to succeed. that's why Data cleaning is the most important process of correcting or removing corrupt, incorrect, or unnecessary data from a data set before data analysis.\n",
        "\n"
      ],
      "metadata": {
        "id": "JSetF4iStSUs"
      }
    },
    {
      "cell_type": "markdown",
      "source": [
        "#import the necessary libraries *Numpy, Pandas, Matploilib, Seaborn*\n",
        "\n",
        "###### **Numpy**: NumPy is a Numerical Python Library that helps perform mathematical operations.\n",
        "###### **Pandas**: Panda is an open-source library that helps understand relational or labelled data.\n",
        "###### **Matplotlib**: Matplotlip is a Python visualization library that helps visualize 2D array plots.\n",
        "###### **Seaborn**: Seaborn is a data visualization library built on top of matplotlib."
      ],
      "metadata": {
        "id": "3VOyXHSZnzTh"
      }
    },
    {
      "cell_type": "code",
      "execution_count": null,
      "metadata": {
        "id": "jCvrsrHsiotJ"
      },
      "outputs": [],
      "source": [
        "import pandas as pd\n",
        "import numpy as np\n",
        "import matplotlib.pyplot as plt\n",
        "import seaborn as sns\n"
      ]
    },
    {
      "cell_type": "code",
      "source": [
        "#Load Data Set \n",
        "data=pd.read_csv(\"/content/drive/MyDrive/Flyzy/Review.csv\")"
      ],
      "metadata": {
        "id": "XenlbSCGj752"
      },
      "execution_count": null,
      "outputs": []
    },
    {
      "cell_type": "markdown",
      "source": [
        "#First I will show the Top five rows to help with the Head() method."
      ],
      "metadata": {
        "id": "DQcAd8ve3E9D"
      }
    },
    {
      "cell_type": "code",
      "source": [
        "data.head()"
      ],
      "metadata": {
        "colab": {
          "base_uri": "https://localhost:8080/",
          "height": 496
        },
        "id": "csXF1Gqcksik",
        "outputId": "690ecfcf-2e07-454d-b2ea-e238b4f05531"
      },
      "execution_count": null,
      "outputs": [
        {
          "output_type": "execute_result",
          "data": {
            "text/plain": [
              "  sentiment_polarity  sentiment_polarity_confidence negative_reason  \\\n",
              "0            neutral                         1.0000             NaN   \n",
              "1           positive                         0.3486             NaN   \n",
              "2            neutral                         0.6837             NaN   \n",
              "3           negative                         1.0000      Bad Flight   \n",
              "4           negative                         1.0000      Can't Tell   \n",
              "\n",
              "   negativereason_confidence    airline_name airline_sentiment_gold  \\\n",
              "0                        NaN  Virgin America                    NaN   \n",
              "1                     0.0000  Virgin America                    NaN   \n",
              "2                        NaN  Virgin America                    NaN   \n",
              "3                     0.7033  Virgin America                    NaN   \n",
              "4                     1.0000  Virgin America                    NaN   \n",
              "\n",
              "         name negativereason_gold  retweet_count  \\\n",
              "0     cairdin                 NaN              0   \n",
              "1    jnardino                 NaN              0   \n",
              "2  yvonnalynn                 NaN              0   \n",
              "3    jnardino                 NaN              0   \n",
              "4    jnardino                 NaN              0   \n",
              "\n",
              "                                              Review tweet_coord  \\\n",
              "0                @VirginAmerica What @dhepburn said.         NaN   \n",
              "1  @VirginAmerica plus you've added commercials t...         NaN   \n",
              "2  @VirginAmerica I didn't today... Must mean I n...         NaN   \n",
              "3  @VirginAmerica it's really aggressive to blast...         NaN   \n",
              "4  @VirginAmerica and it's a really big bad thing...         NaN   \n",
              "\n",
              "    tweet_created tweet_location               user_timezone  \n",
              "0  24/02/15 11:35            NaN  Eastern Time (US & Canada)  \n",
              "1  24/02/15 11:15            NaN  Pacific Time (US & Canada)  \n",
              "2  24/02/15 11:15      Lets Play  Central Time (US & Canada)  \n",
              "3  24/02/15 11:15            NaN  Pacific Time (US & Canada)  \n",
              "4  24/02/15 11:14            NaN  Pacific Time (US & Canada)  "
            ],
            "text/html": [
              "\n",
              "  <div id=\"df-6b8f3457-49ac-4e06-aa3a-c6f5b4547d2f\">\n",
              "    <div class=\"colab-df-container\">\n",
              "      <div>\n",
              "<style scoped>\n",
              "    .dataframe tbody tr th:only-of-type {\n",
              "        vertical-align: middle;\n",
              "    }\n",
              "\n",
              "    .dataframe tbody tr th {\n",
              "        vertical-align: top;\n",
              "    }\n",
              "\n",
              "    .dataframe thead th {\n",
              "        text-align: right;\n",
              "    }\n",
              "</style>\n",
              "<table border=\"1\" class=\"dataframe\">\n",
              "  <thead>\n",
              "    <tr style=\"text-align: right;\">\n",
              "      <th></th>\n",
              "      <th>sentiment_polarity</th>\n",
              "      <th>sentiment_polarity_confidence</th>\n",
              "      <th>negative_reason</th>\n",
              "      <th>negativereason_confidence</th>\n",
              "      <th>airline_name</th>\n",
              "      <th>airline_sentiment_gold</th>\n",
              "      <th>name</th>\n",
              "      <th>negativereason_gold</th>\n",
              "      <th>retweet_count</th>\n",
              "      <th>Review</th>\n",
              "      <th>tweet_coord</th>\n",
              "      <th>tweet_created</th>\n",
              "      <th>tweet_location</th>\n",
              "      <th>user_timezone</th>\n",
              "    </tr>\n",
              "  </thead>\n",
              "  <tbody>\n",
              "    <tr>\n",
              "      <th>0</th>\n",
              "      <td>neutral</td>\n",
              "      <td>1.0000</td>\n",
              "      <td>NaN</td>\n",
              "      <td>NaN</td>\n",
              "      <td>Virgin America</td>\n",
              "      <td>NaN</td>\n",
              "      <td>cairdin</td>\n",
              "      <td>NaN</td>\n",
              "      <td>0</td>\n",
              "      <td>@VirginAmerica What @dhepburn said.</td>\n",
              "      <td>NaN</td>\n",
              "      <td>24/02/15 11:35</td>\n",
              "      <td>NaN</td>\n",
              "      <td>Eastern Time (US &amp; Canada)</td>\n",
              "    </tr>\n",
              "    <tr>\n",
              "      <th>1</th>\n",
              "      <td>positive</td>\n",
              "      <td>0.3486</td>\n",
              "      <td>NaN</td>\n",
              "      <td>0.0000</td>\n",
              "      <td>Virgin America</td>\n",
              "      <td>NaN</td>\n",
              "      <td>jnardino</td>\n",
              "      <td>NaN</td>\n",
              "      <td>0</td>\n",
              "      <td>@VirginAmerica plus you've added commercials t...</td>\n",
              "      <td>NaN</td>\n",
              "      <td>24/02/15 11:15</td>\n",
              "      <td>NaN</td>\n",
              "      <td>Pacific Time (US &amp; Canada)</td>\n",
              "    </tr>\n",
              "    <tr>\n",
              "      <th>2</th>\n",
              "      <td>neutral</td>\n",
              "      <td>0.6837</td>\n",
              "      <td>NaN</td>\n",
              "      <td>NaN</td>\n",
              "      <td>Virgin America</td>\n",
              "      <td>NaN</td>\n",
              "      <td>yvonnalynn</td>\n",
              "      <td>NaN</td>\n",
              "      <td>0</td>\n",
              "      <td>@VirginAmerica I didn't today... Must mean I n...</td>\n",
              "      <td>NaN</td>\n",
              "      <td>24/02/15 11:15</td>\n",
              "      <td>Lets Play</td>\n",
              "      <td>Central Time (US &amp; Canada)</td>\n",
              "    </tr>\n",
              "    <tr>\n",
              "      <th>3</th>\n",
              "      <td>negative</td>\n",
              "      <td>1.0000</td>\n",
              "      <td>Bad Flight</td>\n",
              "      <td>0.7033</td>\n",
              "      <td>Virgin America</td>\n",
              "      <td>NaN</td>\n",
              "      <td>jnardino</td>\n",
              "      <td>NaN</td>\n",
              "      <td>0</td>\n",
              "      <td>@VirginAmerica it's really aggressive to blast...</td>\n",
              "      <td>NaN</td>\n",
              "      <td>24/02/15 11:15</td>\n",
              "      <td>NaN</td>\n",
              "      <td>Pacific Time (US &amp; Canada)</td>\n",
              "    </tr>\n",
              "    <tr>\n",
              "      <th>4</th>\n",
              "      <td>negative</td>\n",
              "      <td>1.0000</td>\n",
              "      <td>Can't Tell</td>\n",
              "      <td>1.0000</td>\n",
              "      <td>Virgin America</td>\n",
              "      <td>NaN</td>\n",
              "      <td>jnardino</td>\n",
              "      <td>NaN</td>\n",
              "      <td>0</td>\n",
              "      <td>@VirginAmerica and it's a really big bad thing...</td>\n",
              "      <td>NaN</td>\n",
              "      <td>24/02/15 11:14</td>\n",
              "      <td>NaN</td>\n",
              "      <td>Pacific Time (US &amp; Canada)</td>\n",
              "    </tr>\n",
              "  </tbody>\n",
              "</table>\n",
              "</div>\n",
              "      <button class=\"colab-df-convert\" onclick=\"convertToInteractive('df-6b8f3457-49ac-4e06-aa3a-c6f5b4547d2f')\"\n",
              "              title=\"Convert this dataframe to an interactive table.\"\n",
              "              style=\"display:none;\">\n",
              "        \n",
              "  <svg xmlns=\"http://www.w3.org/2000/svg\" height=\"24px\"viewBox=\"0 0 24 24\"\n",
              "       width=\"24px\">\n",
              "    <path d=\"M0 0h24v24H0V0z\" fill=\"none\"/>\n",
              "    <path d=\"M18.56 5.44l.94 2.06.94-2.06 2.06-.94-2.06-.94-.94-2.06-.94 2.06-2.06.94zm-11 1L8.5 8.5l.94-2.06 2.06-.94-2.06-.94L8.5 2.5l-.94 2.06-2.06.94zm10 10l.94 2.06.94-2.06 2.06-.94-2.06-.94-.94-2.06-.94 2.06-2.06.94z\"/><path d=\"M17.41 7.96l-1.37-1.37c-.4-.4-.92-.59-1.43-.59-.52 0-1.04.2-1.43.59L10.3 9.45l-7.72 7.72c-.78.78-.78 2.05 0 2.83L4 21.41c.39.39.9.59 1.41.59.51 0 1.02-.2 1.41-.59l7.78-7.78 2.81-2.81c.8-.78.8-2.07 0-2.86zM5.41 20L4 18.59l7.72-7.72 1.47 1.35L5.41 20z\"/>\n",
              "  </svg>\n",
              "      </button>\n",
              "      \n",
              "  <style>\n",
              "    .colab-df-container {\n",
              "      display:flex;\n",
              "      flex-wrap:wrap;\n",
              "      gap: 12px;\n",
              "    }\n",
              "\n",
              "    .colab-df-convert {\n",
              "      background-color: #E8F0FE;\n",
              "      border: none;\n",
              "      border-radius: 50%;\n",
              "      cursor: pointer;\n",
              "      display: none;\n",
              "      fill: #1967D2;\n",
              "      height: 32px;\n",
              "      padding: 0 0 0 0;\n",
              "      width: 32px;\n",
              "    }\n",
              "\n",
              "    .colab-df-convert:hover {\n",
              "      background-color: #E2EBFA;\n",
              "      box-shadow: 0px 1px 2px rgba(60, 64, 67, 0.3), 0px 1px 3px 1px rgba(60, 64, 67, 0.15);\n",
              "      fill: #174EA6;\n",
              "    }\n",
              "\n",
              "    [theme=dark] .colab-df-convert {\n",
              "      background-color: #3B4455;\n",
              "      fill: #D2E3FC;\n",
              "    }\n",
              "\n",
              "    [theme=dark] .colab-df-convert:hover {\n",
              "      background-color: #434B5C;\n",
              "      box-shadow: 0px 1px 3px 1px rgba(0, 0, 0, 0.15);\n",
              "      filter: drop-shadow(0px 1px 2px rgba(0, 0, 0, 0.3));\n",
              "      fill: #FFFFFF;\n",
              "    }\n",
              "  </style>\n",
              "\n",
              "      <script>\n",
              "        const buttonEl =\n",
              "          document.querySelector('#df-6b8f3457-49ac-4e06-aa3a-c6f5b4547d2f button.colab-df-convert');\n",
              "        buttonEl.style.display =\n",
              "          google.colab.kernel.accessAllowed ? 'block' : 'none';\n",
              "\n",
              "        async function convertToInteractive(key) {\n",
              "          const element = document.querySelector('#df-6b8f3457-49ac-4e06-aa3a-c6f5b4547d2f');\n",
              "          const dataTable =\n",
              "            await google.colab.kernel.invokeFunction('convertToInteractive',\n",
              "                                                     [key], {});\n",
              "          if (!dataTable) return;\n",
              "\n",
              "          const docLinkHtml = 'Like what you see? Visit the ' +\n",
              "            '<a target=\"_blank\" href=https://colab.research.google.com/notebooks/data_table.ipynb>data table notebook</a>'\n",
              "            + ' to learn more about interactive tables.';\n",
              "          element.innerHTML = '';\n",
              "          dataTable['output_type'] = 'display_data';\n",
              "          await google.colab.output.renderOutput(dataTable, element);\n",
              "          const docLink = document.createElement('div');\n",
              "          docLink.innerHTML = docLinkHtml;\n",
              "          element.appendChild(docLink);\n",
              "        }\n",
              "      </script>\n",
              "    </div>\n",
              "  </div>\n",
              "  "
            ]
          },
          "metadata": {},
          "execution_count": 3
        }
      ]
    },
    {
      "cell_type": "markdown",
      "source": [
        "###As you can see in the “Customer Reviews” dataset some Attributes are present. then I will examine. "
      ],
      "metadata": {
        "id": "asg19KebnQPZ"
      }
    },
    {
      "cell_type": "markdown",
      "source": [
        "## Next, I used info () method and show information about the DataFrame. The information contains the number of columns, column labels, data types, memory usage, and the number of cells in each column (non-null values)."
      ],
      "metadata": {
        "id": "DazdGPxC4nD_"
      }
    },
    {
      "cell_type": "code",
      "source": [
        "data.info()"
      ],
      "metadata": {
        "colab": {
          "base_uri": "https://localhost:8080/"
        },
        "id": "LNqlvajTkLQt",
        "outputId": "41970a72-7f0a-4d03-d714-1c22095fbcd2"
      },
      "execution_count": null,
      "outputs": [
        {
          "output_type": "stream",
          "name": "stdout",
          "text": [
            "<class 'pandas.core.frame.DataFrame'>\n",
            "RangeIndex: 14640 entries, 0 to 14639\n",
            "Data columns (total 14 columns):\n",
            " #   Column                         Non-Null Count  Dtype  \n",
            "---  ------                         --------------  -----  \n",
            " 0   sentiment_polarity             14640 non-null  object \n",
            " 1   sentiment_polarity_confidence  14640 non-null  float64\n",
            " 2   negative_reason                9178 non-null   object \n",
            " 3   negativereason_confidence      10522 non-null  float64\n",
            " 4   airline_name                   14640 non-null  object \n",
            " 5   airline_sentiment_gold         40 non-null     object \n",
            " 6   name                           14640 non-null  object \n",
            " 7   negativereason_gold            32 non-null     object \n",
            " 8   retweet_count                  14640 non-null  int64  \n",
            " 9   Review                         14640 non-null  object \n",
            " 10  tweet_coord                    1019 non-null   object \n",
            " 11  tweet_created                  14640 non-null  object \n",
            " 12  tweet_location                 9907 non-null   object \n",
            " 13  user_timezone                  9820 non-null   object \n",
            "dtypes: float64(2), int64(1), object(11)\n",
            "memory usage: 1.6+ MB\n"
          ]
        }
      ]
    },
    {
      "cell_type": "markdown",
      "source": [
        "## Describe ()\n",
        "The describe() function is used to generate descriptive statistics that summarize the central tendency, dispersion and shape of a dataset’s distribution,"
      ],
      "metadata": {
        "id": "sZsrQhqOUowe"
      }
    },
    {
      "cell_type": "code",
      "source": [
        "#I want to do  summarize object field\n",
        "data.describe(include='object')"
      ],
      "metadata": {
        "colab": {
          "base_uri": "https://localhost:8080/",
          "height": 256
        },
        "id": "1uvGmPN2gLh8",
        "outputId": "1f8cf511-0490-4ec8-8162-739af48a165d"
      },
      "execution_count": null,
      "outputs": [
        {
          "output_type": "execute_result",
          "data": {
            "text/plain": [
              "       sentiment_polarity         negative_reason airline_name  \\\n",
              "count               14640                    9178        14640   \n",
              "unique                  3                      10            6   \n",
              "top              negative  Customer Service Issue       United   \n",
              "freq                 9178                    2910         3822   \n",
              "\n",
              "       airline_sentiment_gold         name     negativereason_gold  \\\n",
              "count                      40        14640                      32   \n",
              "unique                      3         7701                      13   \n",
              "top                  negative  JetBlueNews  Customer Service Issue   \n",
              "freq                       32           63                      12   \n",
              "\n",
              "                Review tweet_coord   tweet_created tweet_location  \\\n",
              "count            14640        1019           14640           9907   \n",
              "unique           14427         832            6804           3081   \n",
              "top     @united thanks  [0.0, 0.0]  22/02/15 14:22     Boston, MA   \n",
              "freq                 6         164              11            157   \n",
              "\n",
              "                     user_timezone  \n",
              "count                         9820  \n",
              "unique                          85  \n",
              "top     Eastern Time (US & Canada)  \n",
              "freq                          3744  "
            ],
            "text/html": [
              "\n",
              "  <div id=\"df-7fcb58dc-9bc9-468a-beb1-3f8fdfb4b3ab\">\n",
              "    <div class=\"colab-df-container\">\n",
              "      <div>\n",
              "<style scoped>\n",
              "    .dataframe tbody tr th:only-of-type {\n",
              "        vertical-align: middle;\n",
              "    }\n",
              "\n",
              "    .dataframe tbody tr th {\n",
              "        vertical-align: top;\n",
              "    }\n",
              "\n",
              "    .dataframe thead th {\n",
              "        text-align: right;\n",
              "    }\n",
              "</style>\n",
              "<table border=\"1\" class=\"dataframe\">\n",
              "  <thead>\n",
              "    <tr style=\"text-align: right;\">\n",
              "      <th></th>\n",
              "      <th>sentiment_polarity</th>\n",
              "      <th>negative_reason</th>\n",
              "      <th>airline_name</th>\n",
              "      <th>airline_sentiment_gold</th>\n",
              "      <th>name</th>\n",
              "      <th>negativereason_gold</th>\n",
              "      <th>Review</th>\n",
              "      <th>tweet_coord</th>\n",
              "      <th>tweet_created</th>\n",
              "      <th>tweet_location</th>\n",
              "      <th>user_timezone</th>\n",
              "    </tr>\n",
              "  </thead>\n",
              "  <tbody>\n",
              "    <tr>\n",
              "      <th>count</th>\n",
              "      <td>14640</td>\n",
              "      <td>9178</td>\n",
              "      <td>14640</td>\n",
              "      <td>40</td>\n",
              "      <td>14640</td>\n",
              "      <td>32</td>\n",
              "      <td>14640</td>\n",
              "      <td>1019</td>\n",
              "      <td>14640</td>\n",
              "      <td>9907</td>\n",
              "      <td>9820</td>\n",
              "    </tr>\n",
              "    <tr>\n",
              "      <th>unique</th>\n",
              "      <td>3</td>\n",
              "      <td>10</td>\n",
              "      <td>6</td>\n",
              "      <td>3</td>\n",
              "      <td>7701</td>\n",
              "      <td>13</td>\n",
              "      <td>14427</td>\n",
              "      <td>832</td>\n",
              "      <td>6804</td>\n",
              "      <td>3081</td>\n",
              "      <td>85</td>\n",
              "    </tr>\n",
              "    <tr>\n",
              "      <th>top</th>\n",
              "      <td>negative</td>\n",
              "      <td>Customer Service Issue</td>\n",
              "      <td>United</td>\n",
              "      <td>negative</td>\n",
              "      <td>JetBlueNews</td>\n",
              "      <td>Customer Service Issue</td>\n",
              "      <td>@united thanks</td>\n",
              "      <td>[0.0, 0.0]</td>\n",
              "      <td>22/02/15 14:22</td>\n",
              "      <td>Boston, MA</td>\n",
              "      <td>Eastern Time (US &amp; Canada)</td>\n",
              "    </tr>\n",
              "    <tr>\n",
              "      <th>freq</th>\n",
              "      <td>9178</td>\n",
              "      <td>2910</td>\n",
              "      <td>3822</td>\n",
              "      <td>32</td>\n",
              "      <td>63</td>\n",
              "      <td>12</td>\n",
              "      <td>6</td>\n",
              "      <td>164</td>\n",
              "      <td>11</td>\n",
              "      <td>157</td>\n",
              "      <td>3744</td>\n",
              "    </tr>\n",
              "  </tbody>\n",
              "</table>\n",
              "</div>\n",
              "      <button class=\"colab-df-convert\" onclick=\"convertToInteractive('df-7fcb58dc-9bc9-468a-beb1-3f8fdfb4b3ab')\"\n",
              "              title=\"Convert this dataframe to an interactive table.\"\n",
              "              style=\"display:none;\">\n",
              "        \n",
              "  <svg xmlns=\"http://www.w3.org/2000/svg\" height=\"24px\"viewBox=\"0 0 24 24\"\n",
              "       width=\"24px\">\n",
              "    <path d=\"M0 0h24v24H0V0z\" fill=\"none\"/>\n",
              "    <path d=\"M18.56 5.44l.94 2.06.94-2.06 2.06-.94-2.06-.94-.94-2.06-.94 2.06-2.06.94zm-11 1L8.5 8.5l.94-2.06 2.06-.94-2.06-.94L8.5 2.5l-.94 2.06-2.06.94zm10 10l.94 2.06.94-2.06 2.06-.94-2.06-.94-.94-2.06-.94 2.06-2.06.94z\"/><path d=\"M17.41 7.96l-1.37-1.37c-.4-.4-.92-.59-1.43-.59-.52 0-1.04.2-1.43.59L10.3 9.45l-7.72 7.72c-.78.78-.78 2.05 0 2.83L4 21.41c.39.39.9.59 1.41.59.51 0 1.02-.2 1.41-.59l7.78-7.78 2.81-2.81c.8-.78.8-2.07 0-2.86zM5.41 20L4 18.59l7.72-7.72 1.47 1.35L5.41 20z\"/>\n",
              "  </svg>\n",
              "      </button>\n",
              "      \n",
              "  <style>\n",
              "    .colab-df-container {\n",
              "      display:flex;\n",
              "      flex-wrap:wrap;\n",
              "      gap: 12px;\n",
              "    }\n",
              "\n",
              "    .colab-df-convert {\n",
              "      background-color: #E8F0FE;\n",
              "      border: none;\n",
              "      border-radius: 50%;\n",
              "      cursor: pointer;\n",
              "      display: none;\n",
              "      fill: #1967D2;\n",
              "      height: 32px;\n",
              "      padding: 0 0 0 0;\n",
              "      width: 32px;\n",
              "    }\n",
              "\n",
              "    .colab-df-convert:hover {\n",
              "      background-color: #E2EBFA;\n",
              "      box-shadow: 0px 1px 2px rgba(60, 64, 67, 0.3), 0px 1px 3px 1px rgba(60, 64, 67, 0.15);\n",
              "      fill: #174EA6;\n",
              "    }\n",
              "\n",
              "    [theme=dark] .colab-df-convert {\n",
              "      background-color: #3B4455;\n",
              "      fill: #D2E3FC;\n",
              "    }\n",
              "\n",
              "    [theme=dark] .colab-df-convert:hover {\n",
              "      background-color: #434B5C;\n",
              "      box-shadow: 0px 1px 3px 1px rgba(0, 0, 0, 0.15);\n",
              "      filter: drop-shadow(0px 1px 2px rgba(0, 0, 0, 0.3));\n",
              "      fill: #FFFFFF;\n",
              "    }\n",
              "  </style>\n",
              "\n",
              "      <script>\n",
              "        const buttonEl =\n",
              "          document.querySelector('#df-7fcb58dc-9bc9-468a-beb1-3f8fdfb4b3ab button.colab-df-convert');\n",
              "        buttonEl.style.display =\n",
              "          google.colab.kernel.accessAllowed ? 'block' : 'none';\n",
              "\n",
              "        async function convertToInteractive(key) {\n",
              "          const element = document.querySelector('#df-7fcb58dc-9bc9-468a-beb1-3f8fdfb4b3ab');\n",
              "          const dataTable =\n",
              "            await google.colab.kernel.invokeFunction('convertToInteractive',\n",
              "                                                     [key], {});\n",
              "          if (!dataTable) return;\n",
              "\n",
              "          const docLinkHtml = 'Like what you see? Visit the ' +\n",
              "            '<a target=\"_blank\" href=https://colab.research.google.com/notebooks/data_table.ipynb>data table notebook</a>'\n",
              "            + ' to learn more about interactive tables.';\n",
              "          element.innerHTML = '';\n",
              "          dataTable['output_type'] = 'display_data';\n",
              "          await google.colab.output.renderOutput(dataTable, element);\n",
              "          const docLink = document.createElement('div');\n",
              "          docLink.innerHTML = docLinkHtml;\n",
              "          element.appendChild(docLink);\n",
              "        }\n",
              "      </script>\n",
              "    </div>\n",
              "  </div>\n",
              "  "
            ]
          },
          "metadata": {},
          "execution_count": 5
        }
      ]
    },
    {
      "cell_type": "code",
      "source": [
        "data.describe()"
      ],
      "metadata": {
        "colab": {
          "base_uri": "https://localhost:8080/",
          "height": 300
        },
        "id": "oLxc0z54fvGf",
        "outputId": "7592f365-103e-4176-ca84-0e1191991c34"
      },
      "execution_count": null,
      "outputs": [
        {
          "output_type": "execute_result",
          "data": {
            "text/plain": [
              "       sentiment_polarity_confidence  negativereason_confidence  retweet_count\n",
              "count                   14640.000000               10522.000000   14640.000000\n",
              "mean                        0.900169                   0.638298       0.082650\n",
              "std                         0.162830                   0.330440       0.745778\n",
              "min                         0.335000                   0.000000       0.000000\n",
              "25%                         0.692300                   0.360600       0.000000\n",
              "50%                         1.000000                   0.670600       0.000000\n",
              "75%                         1.000000                   1.000000       0.000000\n",
              "max                         1.000000                   1.000000      44.000000"
            ],
            "text/html": [
              "\n",
              "  <div id=\"df-707dcc92-fe08-4eca-984c-2698e669ff3a\">\n",
              "    <div class=\"colab-df-container\">\n",
              "      <div>\n",
              "<style scoped>\n",
              "    .dataframe tbody tr th:only-of-type {\n",
              "        vertical-align: middle;\n",
              "    }\n",
              "\n",
              "    .dataframe tbody tr th {\n",
              "        vertical-align: top;\n",
              "    }\n",
              "\n",
              "    .dataframe thead th {\n",
              "        text-align: right;\n",
              "    }\n",
              "</style>\n",
              "<table border=\"1\" class=\"dataframe\">\n",
              "  <thead>\n",
              "    <tr style=\"text-align: right;\">\n",
              "      <th></th>\n",
              "      <th>sentiment_polarity_confidence</th>\n",
              "      <th>negativereason_confidence</th>\n",
              "      <th>retweet_count</th>\n",
              "    </tr>\n",
              "  </thead>\n",
              "  <tbody>\n",
              "    <tr>\n",
              "      <th>count</th>\n",
              "      <td>14640.000000</td>\n",
              "      <td>10522.000000</td>\n",
              "      <td>14640.000000</td>\n",
              "    </tr>\n",
              "    <tr>\n",
              "      <th>mean</th>\n",
              "      <td>0.900169</td>\n",
              "      <td>0.638298</td>\n",
              "      <td>0.082650</td>\n",
              "    </tr>\n",
              "    <tr>\n",
              "      <th>std</th>\n",
              "      <td>0.162830</td>\n",
              "      <td>0.330440</td>\n",
              "      <td>0.745778</td>\n",
              "    </tr>\n",
              "    <tr>\n",
              "      <th>min</th>\n",
              "      <td>0.335000</td>\n",
              "      <td>0.000000</td>\n",
              "      <td>0.000000</td>\n",
              "    </tr>\n",
              "    <tr>\n",
              "      <th>25%</th>\n",
              "      <td>0.692300</td>\n",
              "      <td>0.360600</td>\n",
              "      <td>0.000000</td>\n",
              "    </tr>\n",
              "    <tr>\n",
              "      <th>50%</th>\n",
              "      <td>1.000000</td>\n",
              "      <td>0.670600</td>\n",
              "      <td>0.000000</td>\n",
              "    </tr>\n",
              "    <tr>\n",
              "      <th>75%</th>\n",
              "      <td>1.000000</td>\n",
              "      <td>1.000000</td>\n",
              "      <td>0.000000</td>\n",
              "    </tr>\n",
              "    <tr>\n",
              "      <th>max</th>\n",
              "      <td>1.000000</td>\n",
              "      <td>1.000000</td>\n",
              "      <td>44.000000</td>\n",
              "    </tr>\n",
              "  </tbody>\n",
              "</table>\n",
              "</div>\n",
              "      <button class=\"colab-df-convert\" onclick=\"convertToInteractive('df-707dcc92-fe08-4eca-984c-2698e669ff3a')\"\n",
              "              title=\"Convert this dataframe to an interactive table.\"\n",
              "              style=\"display:none;\">\n",
              "        \n",
              "  <svg xmlns=\"http://www.w3.org/2000/svg\" height=\"24px\"viewBox=\"0 0 24 24\"\n",
              "       width=\"24px\">\n",
              "    <path d=\"M0 0h24v24H0V0z\" fill=\"none\"/>\n",
              "    <path d=\"M18.56 5.44l.94 2.06.94-2.06 2.06-.94-2.06-.94-.94-2.06-.94 2.06-2.06.94zm-11 1L8.5 8.5l.94-2.06 2.06-.94-2.06-.94L8.5 2.5l-.94 2.06-2.06.94zm10 10l.94 2.06.94-2.06 2.06-.94-2.06-.94-.94-2.06-.94 2.06-2.06.94z\"/><path d=\"M17.41 7.96l-1.37-1.37c-.4-.4-.92-.59-1.43-.59-.52 0-1.04.2-1.43.59L10.3 9.45l-7.72 7.72c-.78.78-.78 2.05 0 2.83L4 21.41c.39.39.9.59 1.41.59.51 0 1.02-.2 1.41-.59l7.78-7.78 2.81-2.81c.8-.78.8-2.07 0-2.86zM5.41 20L4 18.59l7.72-7.72 1.47 1.35L5.41 20z\"/>\n",
              "  </svg>\n",
              "      </button>\n",
              "      \n",
              "  <style>\n",
              "    .colab-df-container {\n",
              "      display:flex;\n",
              "      flex-wrap:wrap;\n",
              "      gap: 12px;\n",
              "    }\n",
              "\n",
              "    .colab-df-convert {\n",
              "      background-color: #E8F0FE;\n",
              "      border: none;\n",
              "      border-radius: 50%;\n",
              "      cursor: pointer;\n",
              "      display: none;\n",
              "      fill: #1967D2;\n",
              "      height: 32px;\n",
              "      padding: 0 0 0 0;\n",
              "      width: 32px;\n",
              "    }\n",
              "\n",
              "    .colab-df-convert:hover {\n",
              "      background-color: #E2EBFA;\n",
              "      box-shadow: 0px 1px 2px rgba(60, 64, 67, 0.3), 0px 1px 3px 1px rgba(60, 64, 67, 0.15);\n",
              "      fill: #174EA6;\n",
              "    }\n",
              "\n",
              "    [theme=dark] .colab-df-convert {\n",
              "      background-color: #3B4455;\n",
              "      fill: #D2E3FC;\n",
              "    }\n",
              "\n",
              "    [theme=dark] .colab-df-convert:hover {\n",
              "      background-color: #434B5C;\n",
              "      box-shadow: 0px 1px 3px 1px rgba(0, 0, 0, 0.15);\n",
              "      filter: drop-shadow(0px 1px 2px rgba(0, 0, 0, 0.3));\n",
              "      fill: #FFFFFF;\n",
              "    }\n",
              "  </style>\n",
              "\n",
              "      <script>\n",
              "        const buttonEl =\n",
              "          document.querySelector('#df-707dcc92-fe08-4eca-984c-2698e669ff3a button.colab-df-convert');\n",
              "        buttonEl.style.display =\n",
              "          google.colab.kernel.accessAllowed ? 'block' : 'none';\n",
              "\n",
              "        async function convertToInteractive(key) {\n",
              "          const element = document.querySelector('#df-707dcc92-fe08-4eca-984c-2698e669ff3a');\n",
              "          const dataTable =\n",
              "            await google.colab.kernel.invokeFunction('convertToInteractive',\n",
              "                                                     [key], {});\n",
              "          if (!dataTable) return;\n",
              "\n",
              "          const docLinkHtml = 'Like what you see? Visit the ' +\n",
              "            '<a target=\"_blank\" href=https://colab.research.google.com/notebooks/data_table.ipynb>data table notebook</a>'\n",
              "            + ' to learn more about interactive tables.';\n",
              "          element.innerHTML = '';\n",
              "          dataTable['output_type'] = 'display_data';\n",
              "          await google.colab.output.renderOutput(dataTable, element);\n",
              "          const docLink = document.createElement('div');\n",
              "          docLink.innerHTML = docLinkHtml;\n",
              "          element.appendChild(docLink);\n",
              "        }\n",
              "      </script>\n",
              "    </div>\n",
              "  </div>\n",
              "  "
            ]
          },
          "metadata": {},
          "execution_count": 6
        }
      ]
    },
    {
      "cell_type": "markdown",
      "source": [
        "### After apply 'describe' function.then i see retweet count column data is high variance."
      ],
      "metadata": {
        "id": "2mbDbaJ4idQJ"
      }
    },
    {
      "cell_type": "markdown",
      "source": [
        "#Handle Duplicates values"
      ],
      "metadata": {
        "id": "P6GcrkmifCse"
      }
    },
    {
      "cell_type": "markdown",
      "source": [
        "###Before Remove Duplicate Values checkd Total Number Of Duplicate Values."
      ],
      "metadata": {
        "id": "Yi0qs69Zfydc"
      }
    },
    {
      "cell_type": "code",
      "source": [
        "Duplicate = data.duplicated().sum()\n",
        "print(\"Total Number Of Duplicate Values = \", Duplicate)"
      ],
      "metadata": {
        "colab": {
          "base_uri": "https://localhost:8080/"
        },
        "id": "wZkOvf15gzQx",
        "outputId": "f7c3b491-425c-4521-a738-00a4039f83cb"
      },
      "execution_count": null,
      "outputs": [
        {
          "output_type": "stream",
          "name": "stdout",
          "text": [
            "Total Number Of Duplicate Values =  36\n"
          ]
        }
      ]
    },
    {
      "cell_type": "code",
      "source": [
        "data.drop_duplicates(subset=None,keep='first',inplace=True)"
      ],
      "metadata": {
        "id": "SaRbA8O81iX3"
      },
      "execution_count": null,
      "outputs": []
    },
    {
      "cell_type": "markdown",
      "source": [
        "# After Remove Duplicate values check Data "
      ],
      "metadata": {
        "id": "EPtIlzwifO3N"
      }
    },
    {
      "cell_type": "code",
      "source": [
        "data.shape"
      ],
      "metadata": {
        "colab": {
          "base_uri": "https://localhost:8080/"
        },
        "id": "zjevh20dfLCv",
        "outputId": "2f0f2c66-e748-438d-fbcc-3eafcdd40611"
      },
      "execution_count": null,
      "outputs": [
        {
          "output_type": "execute_result",
          "data": {
            "text/plain": [
              "(14604, 14)"
            ]
          },
          "metadata": {},
          "execution_count": 9
        }
      ]
    },
    {
      "cell_type": "markdown",
      "source": [
        "# Check Null Values"
      ],
      "metadata": {
        "id": "39OxMjSUo9pM"
      }
    },
    {
      "cell_type": "code",
      "source": [
        "#Check Null Values\n",
        "data.isnull().sum()/data.shape[0]*100\n"
      ],
      "metadata": {
        "id": "Iip1BWE4kcO9",
        "colab": {
          "base_uri": "https://localhost:8080/"
        },
        "outputId": "964320ff-dd12-48b5-a9f7-f72804b7b939"
      },
      "execution_count": null,
      "outputs": [
        {
          "output_type": "execute_result",
          "data": {
            "text/plain": [
              "sentiment_polarity                0.000000\n",
              "sentiment_polarity_confidence     0.000000\n",
              "negative_reason                  37.284306\n",
              "negativereason_confidence        28.081348\n",
              "airline_name                      0.000000\n",
              "airline_sentiment_gold           99.726102\n",
              "name                              0.000000\n",
              "negativereason_gold              99.780882\n",
              "retweet_count                     0.000000\n",
              "Review                            0.000000\n",
              "tweet_coord                      93.049849\n",
              "tweet_created                     0.000000\n",
              "tweet_location                   32.340455\n",
              "user_timezone                    32.963572\n",
              "dtype: float64"
            ]
          },
          "metadata": {},
          "execution_count": 10
        }
      ]
    },
    {
      "cell_type": "markdown",
      "source": [
        "## Drop the data\n",
        "I’ll have to drop only the missing values and keep the data in the entire columns variable because there are so many missing data points that it isn’t fit for analysis. then\n",
        "I drop the missing values with the help  \"Drop\" function.\n"
      ],
      "metadata": {
        "id": "ZGiLB-J9_f1Z"
      }
    },
    {
      "cell_type": "code",
      "source": [
        "#Store Missing values fields in one Variable.Because there is more then 50% missing values  present in field.\n",
        "remove=['airline_sentiment_gold','negativereason_gold','tweet_coord']"
      ],
      "metadata": {
        "id": "9chNMxSx3WEl"
      },
      "execution_count": null,
      "outputs": []
    },
    {
      "cell_type": "code",
      "source": [
        "# The drop methode is used to remove field from any data set.\n",
        "data.drop(remove,inplace =True, axis =1)"
      ],
      "metadata": {
        "id": "_kZdBGs1o9u8"
      },
      "execution_count": null,
      "outputs": []
    },
    {
      "cell_type": "code",
      "source": [
        "data.isnull().sum()/data.shape[0]*100"
      ],
      "metadata": {
        "colab": {
          "base_uri": "https://localhost:8080/"
        },
        "id": "yRFqizvGtYJ_",
        "outputId": "d1f0e8e8-4c7e-4de2-a440-2f7c63967b41"
      },
      "execution_count": null,
      "outputs": [
        {
          "output_type": "execute_result",
          "data": {
            "text/plain": [
              "sentiment_polarity                0.000000\n",
              "sentiment_polarity_confidence     0.000000\n",
              "negative_reason                  37.284306\n",
              "negativereason_confidence        28.081348\n",
              "airline_name                      0.000000\n",
              "name                              0.000000\n",
              "retweet_count                     0.000000\n",
              "Review                            0.000000\n",
              "tweet_created                     0.000000\n",
              "tweet_location                   32.340455\n",
              "user_timezone                    32.963572\n",
              "dtype: float64"
            ]
          },
          "metadata": {},
          "execution_count": 13
        }
      ]
    },
    {
      "cell_type": "markdown",
      "source": [
        "##Input missing data\n",
        "Technically, the method described of filling in individual values standards is also a form of inputting missing data. When it comes to inputting missing data you can use \"fillna\" method using the code below or manually fill in the correct data.\n",
        "\n"
      ],
      "metadata": {
        "id": "M2IIv2EHIuTF"
      }
    },
    {
      "cell_type": "code",
      "source": [
        "#imputing missing values\n",
        "data[\"negative_reason\"]=data[\"negative_reason\"].fillna('No reson') # catgorical column.\n",
        "data[\"tweet_location\"]=data[\"tweet_location\"].fillna(data[\"tweet_location\"].mode()[0]) # catgorical column.\n",
        "data[\"user_timezone\"]=data[\"user_timezone\"].fillna(data[\"user_timezone\"].mode()[0]) # catgorical column.\n",
        "data[\"negativereason_confidence\"]=data[\"negativereason_confidence\"].fillna(data[\"negativereason_confidence\"].mean()) # Numerical Column."
      ],
      "metadata": {
        "id": "Jsgs6b0ptkPc"
      },
      "execution_count": null,
      "outputs": []
    },
    {
      "cell_type": "markdown",
      "source": [
        "#Check Catgorial Fields"
      ],
      "metadata": {
        "id": "aiuxW8hri02e"
      }
    },
    {
      "cell_type": "code",
      "source": [
        "catgorical_col=data.select_dtypes(include=[object]).columns\n",
        "print(catgorical_col)"
      ],
      "metadata": {
        "id": "LtXOS0e4cHHV",
        "colab": {
          "base_uri": "https://localhost:8080/"
        },
        "outputId": "22bd7d34-0a56-4ea2-e986-4d1597a3172c"
      },
      "execution_count": null,
      "outputs": [
        {
          "output_type": "stream",
          "name": "stdout",
          "text": [
            "Index(['sentiment_polarity', 'negative_reason', 'airline_name', 'name',\n",
            "       'Review', 'tweet_created', 'tweet_location', 'user_timezone'],\n",
            "      dtype='object')\n"
          ]
        }
      ]
    },
    {
      "cell_type": "markdown",
      "source": [
        "# Check of Count of Number of observation in each category field help with Countplot..\n",
        "###Countplot is a Seaborn Visualization library for statistical Graphs. it function creates bar charts of the number of observations per category. then the length of the bars represents the count of the number of observations in each category.\n",
        "\n"
      ],
      "metadata": {
        "id": "Bqtw0klkrBva"
      }
    },
    {
      "cell_type": "code",
      "source": [
        "plt.rcParams['figure.figsize']=(20,6)\n",
        "\n",
        "plt.subplot(1,3,1)\n",
        "sns.countplot(data['sentiment_polarity'])\n",
        "plt.xticks(rotation = 90)\n",
        "plt.subplot(1,3,2)\n",
        "sns.countplot(data['airline_name'])\n",
        "plt.xticks(rotation = 90)\n",
        "plt.subplot(1,3,3)\n",
        "sns.countplot(data['negative_reason'])\n",
        "plt.xticks(rotation = 90)\n"
      ],
      "metadata": {
        "colab": {
          "base_uri": "https://localhost:8080/",
          "height": 681
        },
        "id": "fQaJOMVri_7v",
        "outputId": "2579e669-7378-464b-9bf0-5169f50686cc"
      },
      "execution_count": null,
      "outputs": [
        {
          "output_type": "stream",
          "name": "stderr",
          "text": [
            "/usr/local/lib/python3.7/dist-packages/seaborn/_decorators.py:43: FutureWarning: Pass the following variable as a keyword arg: x. From version 0.12, the only valid positional argument will be `data`, and passing other arguments without an explicit keyword will result in an error or misinterpretation.\n",
            "  FutureWarning\n",
            "/usr/local/lib/python3.7/dist-packages/seaborn/_decorators.py:43: FutureWarning: Pass the following variable as a keyword arg: x. From version 0.12, the only valid positional argument will be `data`, and passing other arguments without an explicit keyword will result in an error or misinterpretation.\n",
            "  FutureWarning\n",
            "/usr/local/lib/python3.7/dist-packages/seaborn/_decorators.py:43: FutureWarning: Pass the following variable as a keyword arg: x. From version 0.12, the only valid positional argument will be `data`, and passing other arguments without an explicit keyword will result in an error or misinterpretation.\n",
            "  FutureWarning\n"
          ]
        },
        {
          "output_type": "execute_result",
          "data": {
            "text/plain": [
              "(array([ 0,  1,  2,  3,  4,  5,  6,  7,  8,  9, 10]),\n",
              " <a list of 11 Text major ticklabel objects>)"
            ]
          },
          "metadata": {},
          "execution_count": 16
        },
        {
          "output_type": "display_data",
          "data": {
            "text/plain": [
              "<Figure size 1440x432 with 3 Axes>"
            ],
            "image/png": "[encoded data removed]"
          },
          "metadata": {
            "needs_background": "light"
          }
        }
      ]
    },
    {
      "cell_type": "markdown",
      "source": [
        "Also with the help of the count plot and i saw that the negative point in sentiment_polarity is high and second high point natural. because customers have given more negative reviews. and talking about 'airline _names' is more demand for United Airlines because customer has given good and positive reviews and 'virgin America' have not positive reviews. that's why virgin America is in low Demand. if seen 3rd one is negative_resion most of the customers have given No reason reviews Without reason because they have no reason if the second point is seen as Damaged Luggage Reviews are good because the customer's luggage did not damage.\n"
      ],
      "metadata": {
        "id": "gZ5gjWTVJjs2"
      }
    },
    {
      "cell_type": "code",
      "source": [
        "data[\"name\"].value_counts()"
      ],
      "metadata": {
        "id": "bcW0zEo3NVvS",
        "colab": {
          "base_uri": "https://localhost:8080/"
        },
        "outputId": "bf8389b7-63c7-4985-989b-df262e348839"
      },
      "execution_count": null,
      "outputs": [
        {
          "output_type": "execute_result",
          "data": {
            "text/plain": [
              "JetBlueNews       63\n",
              "kbosspotter       32\n",
              "_mhertz           29\n",
              "otisday           28\n",
              "throthra          27\n",
              "                  ..\n",
              "ChrisJLeary        1\n",
              "tracy_edes         1\n",
              "NGottesman         1\n",
              "chadlacalamita     1\n",
              "sanyabun           1\n",
              "Name: name, Length: 7701, dtype: int64"
            ]
          },
          "metadata": {},
          "execution_count": 17
        }
      ]
    },
    {
      "cell_type": "markdown",
      "source": [
        "#Handling Special Characters & Symbols."
      ],
      "metadata": {
        "id": "7q-wNNMbwMsW"
      }
    },
    {
      "cell_type": "code",
      "source": [
        "# Create a Function for removing Special Characters & Symbols\n",
        "import re\n",
        "def remove_special(text):\n",
        "  return \" \".join(re.sub(\"([^0-9A-Za-z \\t])|(\\w+:\\/\\/\\S+)\",\"\",text).split())"
      ],
      "metadata": {
        "id": "PMpQ1qQW2HI4"
      },
      "execution_count": null,
      "outputs": []
    },
    {
      "cell_type": "code",
      "source": [
        "#Check Review Field Values \n",
        "data[\"Review\"][0]"
      ],
      "metadata": {
        "colab": {
          "base_uri": "https://localhost:8080/",
          "height": 35
        },
        "id": "_OcPRCeIVSbQ",
        "outputId": "48f4699e-c279-4461-c2cb-a5c6138efb0b"
      },
      "execution_count": null,
      "outputs": [
        {
          "output_type": "execute_result",
          "data": {
            "text/plain": [
              "'@VirginAmerica What @dhepburn said.'"
            ],
            "application/vnd.google.colaboratory.intrinsic+json": {
              "type": "string"
            }
          },
          "metadata": {},
          "execution_count": 19
        }
      ]
    },
    {
      "cell_type": "code",
      "source": [
        "# Apply Function\n",
        "data['Review']=data['Review'].apply(remove_special)"
      ],
      "metadata": {
        "id": "hTOkg0bBqUa-"
      },
      "execution_count": null,
      "outputs": []
    },
    {
      "cell_type": "code",
      "source": [
        "data['Review'][0]"
      ],
      "metadata": {
        "colab": {
          "base_uri": "https://localhost:8080/",
          "height": 35
        },
        "id": "wUsqz-JgswJY",
        "outputId": "f5f912e0-31ad-4b0f-db95-7abf3e5fa947"
      },
      "execution_count": null,
      "outputs": [
        {
          "output_type": "execute_result",
          "data": {
            "text/plain": [
              "'VirginAmerica What dhepburn said'"
            ],
            "application/vnd.google.colaboratory.intrinsic+json": {
              "type": "string"
            }
          },
          "metadata": {},
          "execution_count": 21
        }
      ]
    },
    {
      "cell_type": "code",
      "source": [
        "# Apply Function\n",
        "data['name']=data['name'].apply(remove_special)"
      ],
      "metadata": {
        "id": "kRzANwhACBmV"
      },
      "execution_count": null,
      "outputs": []
    },
    {
      "cell_type": "code",
      "source": [
        "data['name']"
      ],
      "metadata": {
        "colab": {
          "base_uri": "https://localhost:8080/"
        },
        "id": "B7sECky8KVdU",
        "outputId": "1e420086-d6f1-4831-8d8b-1a0764ad6f27"
      },
      "execution_count": null,
      "outputs": [
        {
          "output_type": "execute_result",
          "data": {
            "text/plain": [
              "0                cairdin\n",
              "1               jnardino\n",
              "2             yvonnalynn\n",
              "3               jnardino\n",
              "4               jnardino\n",
              "              ...       \n",
              "14635    KristenReenders\n",
              "14636           itsropes\n",
              "14637           sanyabun\n",
              "14638         SraJackson\n",
              "14639          daviddtwu\n",
              "Name: name, Length: 14604, dtype: object"
            ]
          },
          "metadata": {},
          "execution_count": 23
        }
      ]
    },
    {
      "cell_type": "code",
      "source": [
        "data.head()"
      ],
      "metadata": {
        "colab": {
          "base_uri": "https://localhost:8080/",
          "height": 548
        },
        "id": "fBwU7x3ZxKbk",
        "outputId": "7502e61d-7da2-4344-f2ce-670e0ac580a0"
      },
      "execution_count": null,
      "outputs": [
        {
          "output_type": "execute_result",
          "data": {
            "text/plain": [
              "  sentiment_polarity  sentiment_polarity_confidence negative_reason  \\\n",
              "0            neutral                         1.0000        No reson   \n",
              "1           positive                         0.3486        No reson   \n",
              "2            neutral                         0.6837        No reson   \n",
              "3           negative                         1.0000      Bad Flight   \n",
              "4           negative                         1.0000      Can't Tell   \n",
              "\n",
              "   negativereason_confidence    airline_name        name  retweet_count  \\\n",
              "0                   0.637644  Virgin America     cairdin              0   \n",
              "1                   0.000000  Virgin America    jnardino              0   \n",
              "2                   0.637644  Virgin America  yvonnalynn              0   \n",
              "3                   0.703300  Virgin America    jnardino              0   \n",
              "4                   1.000000  Virgin America    jnardino              0   \n",
              "\n",
              "                                              Review   tweet_created  \\\n",
              "0                   VirginAmerica What dhepburn said  24/02/15 11:35   \n",
              "1  VirginAmerica plus youve added commercials to ...  24/02/15 11:15   \n",
              "2  VirginAmerica I didnt today Must mean I need t...  24/02/15 11:15   \n",
              "3  VirginAmerica its really aggressive to blast o...  24/02/15 11:15   \n",
              "4  VirginAmerica and its a really big bad thing a...  24/02/15 11:14   \n",
              "\n",
              "  tweet_location               user_timezone  \n",
              "0     Boston, MA  Eastern Time (US & Canada)  \n",
              "1     Boston, MA  Pacific Time (US & Canada)  \n",
              "2      Lets Play  Central Time (US & Canada)  \n",
              "3     Boston, MA  Pacific Time (US & Canada)  \n",
              "4     Boston, MA  Pacific Time (US & Canada)  "
            ],
            "text/html": [
              "\n",
              "  <div id=\"df-a097ee89-92b0-4aa1-8880-0c74cafc7452\">\n",
              "    <div class=\"colab-df-container\">\n",
              "      <div>\n",
              "<style scoped>\n",
              "    .dataframe tbody tr th:only-of-type {\n",
              "        vertical-align: middle;\n",
              "    }\n",
              "\n",
              "    .dataframe tbody tr th {\n",
              "        vertical-align: top;\n",
              "    }\n",
              "\n",
              "    .dataframe thead th {\n",
              "        text-align: right;\n",
              "    }\n",
              "</style>\n",
              "<table border=\"1\" class=\"dataframe\">\n",
              "  <thead>\n",
              "    <tr style=\"text-align: right;\">\n",
              "      <th></th>\n",
              "      <th>sentiment_polarity</th>\n",
              "      <th>sentiment_polarity_confidence</th>\n",
              "      <th>negative_reason</th>\n",
              "      <th>negativereason_confidence</th>\n",
              "      <th>airline_name</th>\n",
              "      <th>name</th>\n",
              "      <th>retweet_count</th>\n",
              "      <th>Review</th>\n",
              "      <th>tweet_created</th>\n",
              "      <th>tweet_location</th>\n",
              "      <th>user_timezone</th>\n",
              "    </tr>\n",
              "  </thead>\n",
              "  <tbody>\n",
              "    <tr>\n",
              "      <th>0</th>\n",
              "      <td>neutral</td>\n",
              "      <td>1.0000</td>\n",
              "      <td>No reson</td>\n",
              "      <td>0.637644</td>\n",
              "      <td>Virgin America</td>\n",
              "      <td>cairdin</td>\n",
              "      <td>0</td>\n",
              "      <td>VirginAmerica What dhepburn said</td>\n",
              "      <td>24/02/15 11:35</td>\n",
              "      <td>Boston, MA</td>\n",
              "      <td>Eastern Time (US &amp; Canada)</td>\n",
              "    </tr>\n",
              "    <tr>\n",
              "      <th>1</th>\n",
              "      <td>positive</td>\n",
              "      <td>0.3486</td>\n",
              "      <td>No reson</td>\n",
              "      <td>0.000000</td>\n",
              "      <td>Virgin America</td>\n",
              "      <td>jnardino</td>\n",
              "      <td>0</td>\n",
              "      <td>VirginAmerica plus youve added commercials to ...</td>\n",
              "      <td>24/02/15 11:15</td>\n",
              "      <td>Boston, MA</td>\n",
              "      <td>Pacific Time (US &amp; Canada)</td>\n",
              "    </tr>\n",
              "    <tr>\n",
              "      <th>2</th>\n",
              "      <td>neutral</td>\n",
              "      <td>0.6837</td>\n",
              "      <td>No reson</td>\n",
              "      <td>0.637644</td>\n",
              "      <td>Virgin America</td>\n",
              "      <td>yvonnalynn</td>\n",
              "      <td>0</td>\n",
              "      <td>VirginAmerica I didnt today Must mean I need t...</td>\n",
              "      <td>24/02/15 11:15</td>\n",
              "      <td>Lets Play</td>\n",
              "      <td>Central Time (US &amp; Canada)</td>\n",
              "    </tr>\n",
              "    <tr>\n",
              "      <th>3</th>\n",
              "      <td>negative</td>\n",
              "      <td>1.0000</td>\n",
              "      <td>Bad Flight</td>\n",
              "      <td>0.703300</td>\n",
              "      <td>Virgin America</td>\n",
              "      <td>jnardino</td>\n",
              "      <td>0</td>\n",
              "      <td>VirginAmerica its really aggressive to blast o...</td>\n",
              "      <td>24/02/15 11:15</td>\n",
              "      <td>Boston, MA</td>\n",
              "      <td>Pacific Time (US &amp; Canada)</td>\n",
              "    </tr>\n",
              "    <tr>\n",
              "      <th>4</th>\n",
              "      <td>negative</td>\n",
              "      <td>1.0000</td>\n",
              "      <td>Can't Tell</td>\n",
              "      <td>1.000000</td>\n",
              "      <td>Virgin America</td>\n",
              "      <td>jnardino</td>\n",
              "      <td>0</td>\n",
              "      <td>VirginAmerica and its a really big bad thing a...</td>\n",
              "      <td>24/02/15 11:14</td>\n",
              "      <td>Boston, MA</td>\n",
              "      <td>Pacific Time (US &amp; Canada)</td>\n",
              "    </tr>\n",
              "  </tbody>\n",
              "</table>\n",
              "</div>\n",
              "      <button class=\"colab-df-convert\" onclick=\"convertToInteractive('df-a097ee89-92b0-4aa1-8880-0c74cafc7452')\"\n",
              "              title=\"Convert this dataframe to an interactive table.\"\n",
              "              style=\"display:none;\">\n",
              "        \n",
              "  <svg xmlns=\"http://www.w3.org/2000/svg\" height=\"24px\"viewBox=\"0 0 24 24\"\n",
              "       width=\"24px\">\n",
              "    <path d=\"M0 0h24v24H0V0z\" fill=\"none\"/>\n",
              "    <path d=\"M18.56 5.44l.94 2.06.94-2.06 2.06-.94-2.06-.94-.94-2.06-.94 2.06-2.06.94zm-11 1L8.5 8.5l.94-2.06 2.06-.94-2.06-.94L8.5 2.5l-.94 2.06-2.06.94zm10 10l.94 2.06.94-2.06 2.06-.94-2.06-.94-.94-2.06-.94 2.06-2.06.94z\"/><path d=\"M17.41 7.96l-1.37-1.37c-.4-.4-.92-.59-1.43-.59-.52 0-1.04.2-1.43.59L10.3 9.45l-7.72 7.72c-.78.78-.78 2.05 0 2.83L4 21.41c.39.39.9.59 1.41.59.51 0 1.02-.2 1.41-.59l7.78-7.78 2.81-2.81c.8-.78.8-2.07 0-2.86zM5.41 20L4 18.59l7.72-7.72 1.47 1.35L5.41 20z\"/>\n",
              "  </svg>\n",
              "      </button>\n",
              "      \n",
              "  <style>\n",
              "    .colab-df-container {\n",
              "      display:flex;\n",
              "      flex-wrap:wrap;\n",
              "      gap: 12px;\n",
              "    }\n",
              "\n",
              "    .colab-df-convert {\n",
              "      background-color: #E8F0FE;\n",
              "      border: none;\n",
              "      border-radius: 50%;\n",
              "      cursor: pointer;\n",
              "      display: none;\n",
              "      fill: #1967D2;\n",
              "      height: 32px;\n",
              "      padding: 0 0 0 0;\n",
              "      width: 32px;\n",
              "    }\n",
              "\n",
              "    .colab-df-convert:hover {\n",
              "      background-color: #E2EBFA;\n",
              "      box-shadow: 0px 1px 2px rgba(60, 64, 67, 0.3), 0px 1px 3px 1px rgba(60, 64, 67, 0.15);\n",
              "      fill: #174EA6;\n",
              "    }\n",
              "\n",
              "    [theme=dark] .colab-df-convert {\n",
              "      background-color: #3B4455;\n",
              "      fill: #D2E3FC;\n",
              "    }\n",
              "\n",
              "    [theme=dark] .colab-df-convert:hover {\n",
              "      background-color: #434B5C;\n",
              "      box-shadow: 0px 1px 3px 1px rgba(0, 0, 0, 0.15);\n",
              "      filter: drop-shadow(0px 1px 2px rgba(0, 0, 0, 0.3));\n",
              "      fill: #FFFFFF;\n",
              "    }\n",
              "  </style>\n",
              "\n",
              "      <script>\n",
              "        const buttonEl =\n",
              "          document.querySelector('#df-a097ee89-92b0-4aa1-8880-0c74cafc7452 button.colab-df-convert');\n",
              "        buttonEl.style.display =\n",
              "          google.colab.kernel.accessAllowed ? 'block' : 'none';\n",
              "\n",
              "        async function convertToInteractive(key) {\n",
              "          const element = document.querySelector('#df-a097ee89-92b0-4aa1-8880-0c74cafc7452');\n",
              "          const dataTable =\n",
              "            await google.colab.kernel.invokeFunction('convertToInteractive',\n",
              "                                                     [key], {});\n",
              "          if (!dataTable) return;\n",
              "\n",
              "          const docLinkHtml = 'Like what you see? Visit the ' +\n",
              "            '<a target=\"_blank\" href=https://colab.research.google.com/notebooks/data_table.ipynb>data table notebook</a>'\n",
              "            + ' to learn more about interactive tables.';\n",
              "          element.innerHTML = '';\n",
              "          dataTable['output_type'] = 'display_data';\n",
              "          await google.colab.output.renderOutput(dataTable, element);\n",
              "          const docLink = document.createElement('div');\n",
              "          docLink.innerHTML = docLinkHtml;\n",
              "          element.appendChild(docLink);\n",
              "        }\n",
              "      </script>\n",
              "    </div>\n",
              "  </div>\n",
              "  "
            ]
          },
          "metadata": {},
          "execution_count": 24
        }
      ]
    },
    {
      "cell_type": "markdown",
      "source": [
        "My TASK :\n",
        "\n",
        "First step is a sanity check of the data. Regardless of where you obtain your data, it is important\n",
        "to do some sanity checks to ensure that nothing is drastically flawed. For instance, you can\n",
        "check the minimum and maximum values of key input parameters (i.e., columns) of your data to\n",
        "see if anything looks obviously wrong.\n",
        "\n",
        "● Treat null values and duplicate values using appropriate techniques\n",
        "● Prepare the data for text cleaning.\n",
        "\n",
        "\n",
        "### I did perform EDA in this data set During that I found Null values, and Duplicated data, and then I handled clean missing values & duplicate values.I need to do some text cleaning because in this data set I found NAME, and REVIEW columns have some irrelevant values lake Number, Special Characters. "
      ],
      "metadata": {
        "id": "b2Hnuvq52YfM"
      }
    },
    {
      "cell_type": "code",
      "source": [],
      "metadata": {
        "id": "DXQIMnsHtVDI"
      },
      "execution_count": null,
      "outputs": []
    }
  ]
}